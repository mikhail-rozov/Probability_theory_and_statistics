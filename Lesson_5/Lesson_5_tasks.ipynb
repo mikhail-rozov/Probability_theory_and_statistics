{
 "cells": [
  {
   "cell_type": "markdown",
   "metadata": {
    "id": "4xDBAKIAl9kB"
   },
   "source": [
    "### Практическое задание к уроку 5 по теме \"Проверка статистических гипотез. P-значения. Доверительные интервалы\"."
   ]
  },
  {
   "cell_type": "markdown",
   "metadata": {
    "id": "0uAiuII8mJaY"
   },
   "source": [
    "#### Задание 1.  \n",
    "*Известно, что генеральная совокупность распределена нормально  \n",
    "с известным средним квадратическим отклонением 16. Найти ширину  \n",
    "доверительного интервала для оценки математического ожидания  \n",
    "<img src=\"https://latex.codecogs.com/svg.image?\\mu\" title=\"\\mu\" /> с надёжностью 0.95, если выборочное среднее равно 80,  \n",
    "а объём выборки равен 256.*"
   ]
  },
  {
   "cell_type": "markdown",
   "metadata": {
    "id": "qYfkHUNNmvNJ"
   },
   "source": [
    "Так как мы имеем дело с нормально распределенной случайной величиной  \n",
    "и нам известно её среднее квадратическое отклонение, то воспользуемся  \n",
    "Z-статистикой:"
   ]
  },
  {
   "cell_type": "markdown",
   "metadata": {
    "id": "sVopPMQinJ9q"
   },
   "source": [
    "<img src=\"https://latex.codecogs.com/svg.image?P(\\overline{X}&space;&plus;&space;t_{\\alpha/2}&space;\\cdot&space;\\dfrac{\\sigma}{\\sqrt{n}}&space;\\le&space;\\mu&space;\\le&space;\\overline{X}&space;&plus;&space;t_{1&space;-&space;\\alpha/2}&space;\\cdot&space;\\dfrac{\\sigma}{\\sqrt{n}})&space;=&space;p\" title=\"P(\\overline{X} + t_{\\alpha/2} \\cdot \\dfrac{\\sigma}{\\sqrt{n}} \\le \\mu \\le \\overline{X} + t_{1 - \\alpha/2} \\cdot \\dfrac{\\sigma}{\\sqrt{n}}) = p\" />"
   ]
  },
  {
   "cell_type": "markdown",
   "metadata": {
    "id": "vj4HEXcYn1YE"
   },
   "source": [
    "Нам нужно найти ширину доверительного интервала, то есть  \n",
    "разность между его границами.  \n",
    "По условию известно, что:  \n",
    "<img src=\"https://latex.codecogs.com/svg.image?\\sigma&space;=&space;16\" title=\"\\sigma = 16\" />  \n",
    "<img src=\"https://latex.codecogs.com/svg.image?p&space;=&space;0.95\" title=\"p = 0.95\" />  \n",
    "<img src=\"https://latex.codecogs.com/svg.image?\\overline{X}&space;=&space;80\" title=\"\\overline{X} = 80\" />  \n",
    "<img src=\"https://latex.codecogs.com/svg.image?n&space;=&space;256\" title=\"n = 256\" />"
   ]
  },
  {
   "cell_type": "code",
   "execution_count": 1,
   "metadata": {
    "executionInfo": {
     "elapsed": 530,
     "status": "ok",
     "timestamp": 1639219454695,
     "user": {
      "displayName": "Михаил Розов",
      "photoUrl": "https://lh3.googleusercontent.com/a/default-user=s64",
      "userId": "00462108907836186981"
     },
     "user_tz": -180
    },
    "id": "JkXlWMaQmq5M"
   },
   "outputs": [],
   "source": [
    "std = 16\n",
    "p = 0.95\n",
    "mean = 80\n",
    "n = 256"
   ]
  },
  {
   "cell_type": "markdown",
   "metadata": {
    "id": "MJLRuCMEoiUA"
   },
   "source": [
    "Здесь нам неизвестны только квантили порядка <img src=\"https://latex.codecogs.com/svg.image?\\alpha/2\" title=\"\\alpha/2\" /> и <img src=\"https://latex.codecogs.com/svg.image?1&space;-&space;\\alpha/2\" title=\"1 - \\alpha/2\" />.  \n",
    "Найдём их при условии, что <img src=\"https://latex.codecogs.com/svg.image?\\inline&space;\\alpha&space;=&space;1&space;-&space;p\" title=\"\\inline \\alpha = 1 - p\" /> и зная, что Z-статистика  \n",
    "имеет стандартное нормальное распределение:"
   ]
  },
  {
   "cell_type": "code",
   "execution_count": 2,
   "metadata": {
    "executionInfo": {
     "elapsed": 2,
     "status": "ok",
     "timestamp": 1639219455104,
     "user": {
      "displayName": "Михаил Розов",
      "photoUrl": "https://lh3.googleusercontent.com/a/default-user=s64",
      "userId": "00462108907836186981"
     },
     "user_tz": -180
    },
    "id": "LNQDIe6xohhl"
   },
   "outputs": [],
   "source": [
    "alpha = 1 - p"
   ]
  },
  {
   "cell_type": "code",
   "execution_count": 3,
   "metadata": {
    "executionInfo": {
     "elapsed": 630,
     "status": "ok",
     "timestamp": 1639219455732,
     "user": {
      "displayName": "Михаил Розов",
      "photoUrl": "https://lh3.googleusercontent.com/a/default-user=s64",
      "userId": "00462108907836186981"
     },
     "user_tz": -180
    },
    "id": "gzA-4toeo9Av"
   },
   "outputs": [],
   "source": [
    "import scipy.stats"
   ]
  },
  {
   "cell_type": "code",
   "execution_count": 4,
   "metadata": {
    "executionInfo": {
     "elapsed": 17,
     "status": "ok",
     "timestamp": 1639219455732,
     "user": {
      "displayName": "Михаил Розов",
      "photoUrl": "https://lh3.googleusercontent.com/a/default-user=s64",
      "userId": "00462108907836186981"
     },
     "user_tz": -180
    },
    "id": "cKImoMqvo_wl"
   },
   "outputs": [],
   "source": [
    "z = scipy.stats.norm()"
   ]
  },
  {
   "cell_type": "code",
   "execution_count": 5,
   "metadata": {
    "colab": {
     "base_uri": "https://localhost:8080/"
    },
    "executionInfo": {
     "elapsed": 17,
     "status": "ok",
     "timestamp": 1639219455733,
     "user": {
      "displayName": "Михаил Розов",
      "photoUrl": "https://lh3.googleusercontent.com/a/default-user=s64",
      "userId": "00462108907836186981"
     },
     "user_tz": -180
    },
    "id": "p86wba53pmX7",
    "outputId": "847e8ba1-066c-48bd-e721-bbaa4c610dd8"
   },
   "outputs": [
    {
     "data": {
      "text/plain": [
       "(-1.959963984540054, 1.959963984540054)"
      ]
     },
     "execution_count": 5,
     "metadata": {},
     "output_type": "execute_result"
    }
   ],
   "source": [
    "t_left = z.ppf(alpha/2)\n",
    "t_right = z.ppf(1-alpha/2)\n",
    "\n",
    "t_left , t_right"
   ]
  },
  {
   "cell_type": "markdown",
   "metadata": {
    "id": "OMVfMAlHqGqA"
   },
   "source": [
    "Теперь найдём границы доверительного интервала:"
   ]
  },
  {
   "cell_type": "code",
   "execution_count": 6,
   "metadata": {
    "colab": {
     "base_uri": "https://localhost:8080/"
    },
    "executionInfo": {
     "elapsed": 16,
     "status": "ok",
     "timestamp": 1639219455733,
     "user": {
      "displayName": "Михаил Розов",
      "photoUrl": "https://lh3.googleusercontent.com/a/default-user=s64",
      "userId": "00462108907836186981"
     },
     "user_tz": -180
    },
    "id": "jM7u68mPqCMF",
    "outputId": "74dbc8c1-ad89-4228-ff73-b1c2af24ed5b"
   },
   "outputs": [
    {
     "data": {
      "text/plain": [
       "78.04003601545995"
      ]
     },
     "execution_count": 6,
     "metadata": {},
     "output_type": "execute_result"
    }
   ],
   "source": [
    "left = mean + t_left * std / n**0.5\n",
    "left"
   ]
  },
  {
   "cell_type": "code",
   "execution_count": 7,
   "metadata": {
    "colab": {
     "base_uri": "https://localhost:8080/"
    },
    "executionInfo": {
     "elapsed": 14,
     "status": "ok",
     "timestamp": 1639219455733,
     "user": {
      "displayName": "Михаил Розов",
      "photoUrl": "https://lh3.googleusercontent.com/a/default-user=s64",
      "userId": "00462108907836186981"
     },
     "user_tz": -180
    },
    "id": "2g9e3OZDqag1",
    "outputId": "f5c53def-5054-4c50-a8dc-4dedb144d44b"
   },
   "outputs": [
    {
     "data": {
      "text/plain": [
       "81.95996398454005"
      ]
     },
     "execution_count": 7,
     "metadata": {},
     "output_type": "execute_result"
    }
   ],
   "source": [
    "right = mean + t_right * std / n**0.5\n",
    "right"
   ]
  },
  {
   "cell_type": "markdown",
   "metadata": {
    "id": "NpdBsscJqg4P"
   },
   "source": [
    "Тогда ширина доверительного интервала будет равна:"
   ]
  },
  {
   "cell_type": "code",
   "execution_count": 8,
   "metadata": {
    "colab": {
     "base_uri": "https://localhost:8080/"
    },
    "executionInfo": {
     "elapsed": 13,
     "status": "ok",
     "timestamp": 1639219455733,
     "user": {
      "displayName": "Михаил Розов",
      "photoUrl": "https://lh3.googleusercontent.com/a/default-user=s64",
      "userId": "00462108907836186981"
     },
     "user_tz": -180
    },
    "id": "B84u0QBgqeRs",
    "outputId": "d9471747-411c-4d27-a12a-5b5e7f1bfcf0"
   },
   "outputs": [
    {
     "data": {
      "text/plain": [
       "3.9199279690801063"
      ]
     },
     "execution_count": 8,
     "metadata": {},
     "output_type": "execute_result"
    }
   ],
   "source": [
    "right - left"
   ]
  },
  {
   "cell_type": "markdown",
   "metadata": {
    "id": "FwwGI7KUrENr"
   },
   "source": [
    "#### Задание 2.  \n",
    "*Продавец утверждает, что средний вес пачки печенья составляет 200 г.  \n",
    "Из партии извлечена выборка из 10 пачек. Вес каждой пачки составляет:*  \n",
    "```\n",
    "202, 203, 199, 197, 195, 201, 200, 204, 194, 190\n",
    "```\n",
    "*Известно, что их веса распределены нормально. Верно ли утверждение продавца,  \n",
    "если учитывать, что уровень значимости равен 1%? Найдите P-значение  \n",
    "для данного теста и укажите его в качестве ответа.*"
   ]
  },
  {
   "cell_type": "markdown",
   "metadata": {
    "id": "a0RHbPnG2E3J"
   },
   "source": [
    "Здесь нулевая гипотеза заключается в том, что математическое  \n",
    "ожидание случайной величины равно 200 г."
   ]
  },
  {
   "cell_type": "markdown",
   "metadata": {
    "id": "XXEfpnGb2h6S"
   },
   "source": [
    "Нам дано:  \n",
    "<img src=\"https://latex.codecogs.com/svg.image?\\inline&space;\\mu&space;=&space;200\" title=\"\\inline \\mu = 200\" />  \n",
    "<img src=\"https://latex.codecogs.com/svg.image?\\inline&space;n&space;=&space;10\" title=\"\\inline n = 10\" />  \n",
    "<img src=\"https://latex.codecogs.com/svg.image?\\inline&space;\\alpha&space;=&space;0.01\" title=\"\\inline \\alpha = 0.01\" />"
   ]
  },
  {
   "cell_type": "code",
   "execution_count": 9,
   "metadata": {
    "executionInfo": {
     "elapsed": 13,
     "status": "ok",
     "timestamp": 1639219455734,
     "user": {
      "displayName": "Михаил Розов",
      "photoUrl": "https://lh3.googleusercontent.com/a/default-user=s64",
      "userId": "00462108907836186981"
     },
     "user_tz": -180
    },
    "id": "ZQrYg4ZhqqTl"
   },
   "outputs": [],
   "source": [
    "samples = (202, 203, 199, 197, 195, 201, 200, 204, 194, 190)\n",
    "mu = 200\n",
    "n = 10\n",
    "alpha = 0.01"
   ]
  },
  {
   "cell_type": "markdown",
   "metadata": {
    "id": "ncKE7VHM3B_H"
   },
   "source": [
    "Так как случайная величина распределена нормально, и нам  \n",
    "неизвестна величина её среднего квадратичного отклонения,  \n",
    "то будем пользоваться t-статистикой:  \n",
    "<img src=\"https://latex.codecogs.com/svg.image?\\inline&space;t&space;=&space;\\dfrac{\\overline{X}&space;-&space;\\mu}{\\sigma_X&space;/&space;\\sqrt{n}}\" title=\"\\inline t = \\dfrac{\\overline{X} - \\mu}{\\sigma_X / \\sqrt{n}}\" />"
   ]
  },
  {
   "cell_type": "markdown",
   "metadata": {
    "id": "gS1fRAbt3ntn"
   },
   "source": [
    "Найдём выборочное среднее <img src=\"https://latex.codecogs.com/svg.image?\\inline&space;\\overline{X}\" title=\"\\inline \\overline{X}\" /> и среднее  \n",
    "квадратичное отклонение <img src=\"https://latex.codecogs.com/svg.image?\\inline&space;\\sigma_X\" title=\"\\inline \\sigma_X\" /> нашей выборки:"
   ]
  },
  {
   "cell_type": "code",
   "execution_count": 10,
   "metadata": {
    "executionInfo": {
     "elapsed": 13,
     "status": "ok",
     "timestamp": 1639219455734,
     "user": {
      "displayName": "Михаил Розов",
      "photoUrl": "https://lh3.googleusercontent.com/a/default-user=s64",
      "userId": "00462108907836186981"
     },
     "user_tz": -180
    },
    "id": "t-WszhS720px"
   },
   "outputs": [],
   "source": [
    "import numpy as np"
   ]
  },
  {
   "cell_type": "code",
   "execution_count": 11,
   "metadata": {
    "colab": {
     "base_uri": "https://localhost:8080/"
    },
    "executionInfo": {
     "elapsed": 11,
     "status": "ok",
     "timestamp": 1639219455734,
     "user": {
      "displayName": "Михаил Розов",
      "photoUrl": "https://lh3.googleusercontent.com/a/default-user=s64",
      "userId": "00462108907836186981"
     },
     "user_tz": -180
    },
    "id": "s6CZkXBt37vj",
    "outputId": "a9aa6457-c5a3-44bb-d290-ae6aa5a3fe16"
   },
   "outputs": [
    {
     "data": {
      "text/plain": [
       "198.5"
      ]
     },
     "execution_count": 11,
     "metadata": {},
     "output_type": "execute_result"
    }
   ],
   "source": [
    "mean = np.mean(samples)\n",
    "mean"
   ]
  },
  {
   "cell_type": "code",
   "execution_count": 12,
   "metadata": {
    "colab": {
     "base_uri": "https://localhost:8080/"
    },
    "executionInfo": {
     "elapsed": 11,
     "status": "ok",
     "timestamp": 1639219455735,
     "user": {
      "displayName": "Михаил Розов",
      "photoUrl": "https://lh3.googleusercontent.com/a/default-user=s64",
      "userId": "00462108907836186981"
     },
     "user_tz": -180
    },
    "id": "a4iksSzr3_ij",
    "outputId": "17e95dae-853f-4cc0-faca-8d3ffb59818c"
   },
   "outputs": [
    {
     "data": {
      "text/plain": [
       "4.453463071962462"
      ]
     },
     "execution_count": 12,
     "metadata": {},
     "output_type": "execute_result"
    }
   ],
   "source": [
    "std = np.std(samples, ddof=1)\n",
    "std"
   ]
  },
  {
   "cell_type": "markdown",
   "metadata": {
    "id": "fBxCeTxN4dNd"
   },
   "source": [
    "Значение статистики будет равно:"
   ]
  },
  {
   "cell_type": "code",
   "execution_count": 13,
   "metadata": {
    "colab": {
     "base_uri": "https://localhost:8080/"
    },
    "executionInfo": {
     "elapsed": 10,
     "status": "ok",
     "timestamp": 1639219455735,
     "user": {
      "displayName": "Михаил Розов",
      "photoUrl": "https://lh3.googleusercontent.com/a/default-user=s64",
      "userId": "00462108907836186981"
     },
     "user_tz": -180
    },
    "id": "6EZJ6IYB4Dkr",
    "outputId": "6fd592e8-0d13-4cc4-8638-fe626acd9d91"
   },
   "outputs": [
    {
     "data": {
      "text/plain": [
       "-1.0651074037450896"
      ]
     },
     "execution_count": 13,
     "metadata": {},
     "output_type": "execute_result"
    }
   ],
   "source": [
    "S = (mean - mu) / (std / n**0.5)\n",
    "S"
   ]
  },
  {
   "cell_type": "markdown",
   "metadata": {
    "id": "dJJyh4zw5Cx3"
   },
   "source": [
    "Так как t-статистика имеет распределение Стьюдента, то  \n",
    "критическая область будет двусторонней, и Р-значение будет  \n",
    "находиться по формуле:  \n",
    "<br>\n",
    "<img src=\"https://latex.codecogs.com/svg.image?\\inline&space;P&space;=&space;2&space;\\cdot&space;min(P_l,&space;P_r)\" title=\"\\inline P = 2 \\cdot min(P_l, P_r)\" />, где  \n",
    "<br>\n",
    "<img src=\"https://latex.codecogs.com/svg.image?\\inline&space;P_l&space;=&space;F_S(S)\" title=\"\\inline P_l = F_S(S)\" /> - P-значение для левосторонней области;  \n",
    "<img src=\"https://latex.codecogs.com/svg.image?\\inline&space;P_r&space;=&space;1&space;-&space;F_S(S)\" title=\"\\inline P_r = 1 - F_S(S)\" /> - P-значение для правосторонней области."
   ]
  },
  {
   "cell_type": "markdown",
   "metadata": {
    "id": "Zr9Y4qtx6bQ4"
   },
   "source": [
    "Найдём <img src=\"https://latex.codecogs.com/svg.image?\\inline&space;F_S(S)\" title=\"\\inline F_S(S)\" />, то есть значение функции распределения Стьюдента  \n",
    "с параметром df = n-1 в точке S:"
   ]
  },
  {
   "cell_type": "code",
   "execution_count": 14,
   "metadata": {
    "colab": {
     "base_uri": "https://localhost:8080/"
    },
    "executionInfo": {
     "elapsed": 9,
     "status": "ok",
     "timestamp": 1639219455735,
     "user": {
      "displayName": "Михаил Розов",
      "photoUrl": "https://lh3.googleusercontent.com/a/default-user=s64",
      "userId": "00462108907836186981"
     },
     "user_tz": -180
    },
    "id": "Cq-Biv5U47qj",
    "outputId": "b51957a4-c26f-48af-bc09-20d8dec92110"
   },
   "outputs": [
    {
     "data": {
      "text/plain": [
       "0.15728330176236424"
      ]
     },
     "execution_count": 14,
     "metadata": {},
     "output_type": "execute_result"
    }
   ],
   "source": [
    "F_S = scipy.stats.t.cdf(S, df=n-1)\n",
    "F_S"
   ]
  },
  {
   "cell_type": "markdown",
   "metadata": {
    "id": "E90MMjdM8j1t"
   },
   "source": [
    "Тогда:"
   ]
  },
  {
   "cell_type": "code",
   "execution_count": 15,
   "metadata": {
    "colab": {
     "base_uri": "https://localhost:8080/"
    },
    "executionInfo": {
     "elapsed": 8,
     "status": "ok",
     "timestamp": 1639219455735,
     "user": {
      "displayName": "Михаил Розов",
      "photoUrl": "https://lh3.googleusercontent.com/a/default-user=s64",
      "userId": "00462108907836186981"
     },
     "user_tz": -180
    },
    "id": "-8h4k9K-8hmC",
    "outputId": "9e4c807f-2e95-46e8-db97-3f15f0153b19"
   },
   "outputs": [
    {
     "data": {
      "text/plain": [
       "(0.15728330176236424, 0.8427166982376357)"
      ]
     },
     "execution_count": 15,
     "metadata": {},
     "output_type": "execute_result"
    }
   ],
   "source": [
    "P_l = F_S\n",
    "P_r = 1 - F_S\n",
    "P_l, P_r"
   ]
  },
  {
   "cell_type": "markdown",
   "metadata": {
    "id": "--576gOK8wiv"
   },
   "source": [
    "Найдём Р-значение:"
   ]
  },
  {
   "cell_type": "code",
   "execution_count": 16,
   "metadata": {
    "colab": {
     "base_uri": "https://localhost:8080/"
    },
    "executionInfo": {
     "elapsed": 9,
     "status": "ok",
     "timestamp": 1639219455736,
     "user": {
      "displayName": "Михаил Розов",
      "photoUrl": "https://lh3.googleusercontent.com/a/default-user=s64",
      "userId": "00462108907836186981"
     },
     "user_tz": -180
    },
    "id": "MUoFwA4w8r_6",
    "outputId": "7c063a88-1d5f-46b7-ca07-2e29fa1ac901"
   },
   "outputs": [
    {
     "data": {
      "text/plain": [
       "0.3145666035247285"
      ]
     },
     "execution_count": 16,
     "metadata": {},
     "output_type": "execute_result"
    }
   ],
   "source": [
    "p_value = 2 * min(P_l, P_r)\n",
    "p_value"
   ]
  },
  {
   "cell_type": "markdown",
   "metadata": {
    "id": "-69YxNb79Kni"
   },
   "source": [
    "Получившееся Р-значение превышает заданный в условии уровень значимости (0.01),  \n",
    "следовательно, нулевую гипотезу мы не отвергаем, утверждение продавца верно."
   ]
  },
  {
   "cell_type": "markdown",
   "metadata": {
    "id": "24_Sl7EaBsYb"
   },
   "source": [
    "Данную задачу также можно было решить в одну строчку, используя  \n",
    "встроенную в scipy функцию для t-теста:"
   ]
  },
  {
   "cell_type": "code",
   "execution_count": 17,
   "metadata": {
    "colab": {
     "base_uri": "https://localhost:8080/"
    },
    "executionInfo": {
     "elapsed": 8,
     "status": "ok",
     "timestamp": 1639219455736,
     "user": {
      "displayName": "Михаил Розов",
      "photoUrl": "https://lh3.googleusercontent.com/a/default-user=s64",
      "userId": "00462108907836186981"
     },
     "user_tz": -180
    },
    "id": "eTyKHoZuB4SD",
    "outputId": "54a57e1c-5e40-422c-8131-c34db92206d8"
   },
   "outputs": [
    {
     "data": {
      "text/plain": [
       "Ttest_1sampResult(statistic=-1.0651074037450896, pvalue=0.3145666035247285)"
      ]
     },
     "execution_count": 17,
     "metadata": {},
     "output_type": "execute_result"
    }
   ],
   "source": [
    "scipy.stats.ttest_1samp(samples, popmean=200)"
   ]
  },
  {
   "cell_type": "markdown",
   "metadata": {
    "id": "dglz_DUR-3Nr"
   },
   "source": [
    "#### Задание 3.  \n",
    "*Дана выборка диаметров подшипников из примера 1 с занятия 5:*\n",
    "```\n",
    "samples = [0.6603, 0.9466, 0.5968, 1.3792, 1.5481, 0.7515, 1.0681, 1.1134,\n",
    "           1.2088, 1.701 , 1.0282, 1.3579, 1.0191, 1.1784, 1.1168, 1.1372,\n",
    "           0.7273, 1.3958, 0.8665, 1.5112, 1.161 , 1.0232, 1.0865, 1.02  ]\n",
    "```\n",
    "*Предполагая, что диаметры подшипников распределены нормально,  \n",
    "проверьте гипотезу о том, что дисперсия случайной величины равна  \n",
    "`0.0625` при уровне значимости `alpha = 0.05`. Что для этого нужно знать:*  \n",
    "1. *Альтернативная гипотеза двухсторонняя.*\n",
    "2. *Статистика для теста: <img src=\"https://latex.codecogs.com/svg.image?\\inline&space;H&space;=&space;\\dfrac{(n&space;-&space;1)&space;\\cdot&space;D_X}{D}\" title=\"\\inline H = \\dfrac{(n - 1) \\cdot D_X}{D}\" />,  \n",
    "где n - число элементов в выборке;  \n",
    "<img src=\"https://latex.codecogs.com/svg.image?\\inline&space;D_X\" title=\"\\inline D_X\" /> - несмещённая оценка дисперсии;  \n",
    "<img src=\"https://latex.codecogs.com/svg.image?\\inline&space;D\" title=\"\\inline D\" /> - утверждаемая нулевой гипотезой дисперсия.*\n",
    "3. *Эта статистика в предположении верности нулевой гипотезы имеет  \n",
    "распределение хи-квадрат с параметром `df = n - 1`. Её квантили можно  \n",
    "найти с помощью функции `scipy.stats.chi2.ppf`.*\n",
    "\n",
    "*В качестве ответа запишите 1, если нулевая гипотеза верна, и 0 иначе.*"
   ]
  },
  {
   "cell_type": "code",
   "execution_count": 18,
   "metadata": {
    "executionInfo": {
     "elapsed": 715,
     "status": "ok",
     "timestamp": 1639219456444,
     "user": {
      "displayName": "Михаил Розов",
      "photoUrl": "https://lh3.googleusercontent.com/a/default-user=s64",
      "userId": "00462108907836186981"
     },
     "user_tz": -180
    },
    "id": "HjnBorpT85rb"
   },
   "outputs": [],
   "source": [
    "samples = np.array([0.6603, 0.9466, 0.5968, 1.3792, 1.5481, 0.7515, 1.0681, 1.1134,\n",
    "                    1.2088, 1.701 , 1.0282, 1.3579, 1.0191, 1.1784, 1.1168, 1.1372,\n",
    "                    0.7273, 1.3958, 0.8665, 1.5112, 1.161 , 1.0232, 1.0865, 1.02])\n",
    "D = 0.0625\n",
    "alpha = 0.05\n",
    "n = samples.shape[0]"
   ]
  },
  {
   "cell_type": "markdown",
   "metadata": {
    "id": "hpGLuaq6BQUb"
   },
   "source": [
    "В этой задаче нам нужно найти критическую область и посмотреть, будет ли  \n",
    "туда входить значение статистики для нашей выборки."
   ]
  },
  {
   "cell_type": "markdown",
   "metadata": {
    "id": "UjY8-nB1_aSs"
   },
   "source": [
    "Рассчитаем дисперсию выборки:"
   ]
  },
  {
   "cell_type": "code",
   "execution_count": 19,
   "metadata": {
    "colab": {
     "base_uri": "https://localhost:8080/"
    },
    "executionInfo": {
     "elapsed": 8,
     "status": "ok",
     "timestamp": 1639219456444,
     "user": {
      "displayName": "Михаил Розов",
      "photoUrl": "https://lh3.googleusercontent.com/a/default-user=s64",
      "userId": "00462108907836186981"
     },
     "user_tz": -180
    },
    "id": "1xxEcuM3BPM4",
    "outputId": "d39c85fb-1316-4c88-9477-9c07a3ee86e5"
   },
   "outputs": [
    {
     "data": {
      "text/plain": [
       "0.07804495041666669"
      ]
     },
     "execution_count": 19,
     "metadata": {},
     "output_type": "execute_result"
    }
   ],
   "source": [
    "D_X = np.var(samples, ddof=1)\n",
    "D_X"
   ]
  },
  {
   "cell_type": "markdown",
   "metadata": {
    "id": "_AV-CJ5q_eI5"
   },
   "source": [
    "Найдём значение статистики:"
   ]
  },
  {
   "cell_type": "code",
   "execution_count": 20,
   "metadata": {
    "colab": {
     "base_uri": "https://localhost:8080/"
    },
    "executionInfo": {
     "elapsed": 8,
     "status": "ok",
     "timestamp": 1639219456445,
     "user": {
      "displayName": "Михаил Розов",
      "photoUrl": "https://lh3.googleusercontent.com/a/default-user=s64",
      "userId": "00462108907836186981"
     },
     "user_tz": -180
    },
    "id": "NewenlYOCsGy",
    "outputId": "6f0655f2-af5a-4008-fce0-bad399dba2c0"
   },
   "outputs": [
    {
     "data": {
      "text/plain": [
       "28.720541753333343"
      ]
     },
     "execution_count": 20,
     "metadata": {},
     "output_type": "execute_result"
    }
   ],
   "source": [
    "H = (n - 1) * D_X / D\n",
    "H"
   ]
  },
  {
   "cell_type": "markdown",
   "metadata": {
    "id": "jvhRIS9V_idE"
   },
   "source": [
    "Так как гипотеза двусторонняя, то критическая область будет  \n",
    "состоять из двух интервалов:  \n",
    "<img src=\"https://latex.codecogs.com/svg.image?\\inline&space;\\Omega_\\alpha&space;=&space;(-\\infty,&space;t_{\\alpha/2})&space;\\lor&space;(t_{1-\\alpha/2},&space;&plus;\\infty)\" title=\"\\inline \\Omega_\\alpha = (-\\infty, t_{\\alpha/2}) \\lor (t_{1-\\alpha/2}, +\\infty)\" />"
   ]
  },
  {
   "cell_type": "markdown",
   "metadata": {
    "id": "8P8o_yz8AcGw"
   },
   "source": [
    "Для нахождения границ интервалов найдём квантили функции  \n",
    "распределения хи-квадрат:"
   ]
  },
  {
   "cell_type": "code",
   "execution_count": 21,
   "metadata": {
    "executionInfo": {
     "elapsed": 7,
     "status": "ok",
     "timestamp": 1639219456445,
     "user": {
      "displayName": "Михаил Розов",
      "photoUrl": "https://lh3.googleusercontent.com/a/default-user=s64",
      "userId": "00462108907836186981"
     },
     "user_tz": -180
    },
    "id": "oFwvZGwmDMGZ"
   },
   "outputs": [],
   "source": [
    "stat = scipy.stats.chi2(df=n-1)"
   ]
  },
  {
   "cell_type": "code",
   "execution_count": 22,
   "metadata": {
    "colab": {
     "base_uri": "https://localhost:8080/"
    },
    "executionInfo": {
     "elapsed": 8,
     "status": "ok",
     "timestamp": 1639219456446,
     "user": {
      "displayName": "Михаил Розов",
      "photoUrl": "https://lh3.googleusercontent.com/a/default-user=s64",
      "userId": "00462108907836186981"
     },
     "user_tz": -180
    },
    "id": "lD8rEIzBEOIK",
    "outputId": "78ee865e-16bc-4e1e-892c-8f565c0eb45c"
   },
   "outputs": [
    {
     "data": {
      "text/plain": [
       "(11.688551922452438, 38.0756272503558)"
      ]
     },
     "execution_count": 22,
     "metadata": {},
     "output_type": "execute_result"
    }
   ],
   "source": [
    "t1 = scipy.stats.chi2.ppf(alpha/2, df=n-1)\n",
    "t2 = scipy.stats.chi2.ppf(1 - alpha/2, df=n-1)\n",
    "\n",
    "t1, t2"
   ]
  },
  {
   "cell_type": "markdown",
   "metadata": {
    "id": "cmjkx2GtAqXB"
   },
   "source": [
    "Изобразим критическую область и наше значение  статистики  \n",
    "на графике:"
   ]
  },
  {
   "cell_type": "code",
   "execution_count": 23,
   "metadata": {
    "executionInfo": {
     "elapsed": 7,
     "status": "ok",
     "timestamp": 1639219456446,
     "user": {
      "displayName": "Михаил Розов",
      "photoUrl": "https://lh3.googleusercontent.com/a/default-user=s64",
      "userId": "00462108907836186981"
     },
     "user_tz": -180
    },
    "id": "K9vfc3lbEUzR"
   },
   "outputs": [],
   "source": [
    "# %config InlineBackend.figure_format = 'svg'\n",
    "%matplotlib inline\n",
    "\n",
    "import matplotlib.pyplot as plt\n",
    "from pylab import rcParams\n",
    "\n",
    "rcParams['font.size'] = 15\n",
    "rcParams['figure.figsize'] = 8, 5\n",
    "plt.style.use('seaborn-whitegrid')"
   ]
  },
  {
   "cell_type": "code",
   "execution_count": 24,
   "metadata": {
    "colab": {
     "base_uri": "https://localhost:8080/",
     "height": 348
    },
    "executionInfo": {
     "elapsed": 7,
     "status": "ok",
     "timestamp": 1639219456446,
     "user": {
      "displayName": "Михаил Розов",
      "photoUrl": "https://lh3.googleusercontent.com/a/default-user=s64",
      "userId": "00462108907836186981"
     },
     "user_tz": -180
    },
    "id": "Vfjh8iXuBHVC",
    "outputId": "82a011e9-4f11-4521-d50e-c422083f7c86"
   },
   "outputs": [
    {
     "data": {
      "image/png": "[encoded data removed]",
      "text/plain": [
       "<Figure size 576x360 with 1 Axes>"
      ]
     },
     "metadata": {},
     "output_type": "display_data"
    }
   ],
   "source": [
    "ox = np.linspace(0, 60, 500)\n",
    "oy = scipy.stats.chi2(df=n-1).pdf(ox)\n",
    "\n",
    "ox_left = np.linspace(0, t1, 100)\n",
    "oy_left = scipy.stats.chi2(df=n-1).pdf(ox_left)\n",
    "\n",
    "ox_right = np.linspace(t2, 60, 100)\n",
    "oy_right = scipy.stats.chi2(df=n-1).pdf(ox_right)\n",
    "\n",
    "plt.plot(ox, oy)\n",
    "plt.axvline(x=H, ymin = 0.04, ymax=0.56, lw=1, ls='dashed', color='black')\n",
    "plt.plot([H], [0], marker='o', color='red', ms=3)\n",
    "plt.annotate('H', xy=(H+0.5, 0))\n",
    "plt.fill_between(ox_left, oy_left, alpha=0.5, color='C0')\n",
    "plt.fill_between(ox_right, oy_right, alpha=0.5, color='C0')\n",
    "\n",
    "plt.show()"
   ]
  },
  {
   "cell_type": "markdown",
   "metadata": {
    "id": "cY-7gJqNECfF"
   },
   "source": [
    "Так как наше значение статистики (точка Н) не попадает в критическую область,  \n",
    "то мы не отвергаем нулевую гипотезу. Следовательно, она верна.  \n",
    "<u>Ответ:</u> 1"
   ]
  }
 ],
 "metadata": {
  "colab": {
   "authorship_tag": "ABX9TyNQ7qWZNIf3GnT3l4fqrz+Z",
   "collapsed_sections": [],
   "name": "Lesson_5_tasks.ipynb",
   "provenance": []
  },
  "kernelspec": {
   "display_name": "Python 3 (ipykernel)",
   "language": "python",
   "name": "python3"
  },
  "language_info": {
   "codemirror_mode": {
    "name": "ipython",
    "version": 3
   },
   "file_extension": ".py",
   "mimetype": "text/x-python",
   "name": "python",
   "nbconvert_exporter": "python",
   "pygments_lexer": "ipython3",
   "version": "3.9.7"
  }
 },
 "nbformat": 4,
 "nbformat_minor": 4
}
