{
 "cells": [
  {
   "cell_type": "markdown",
   "metadata": {
    "id": "EtRP9N59dann"
   },
   "source": [
    "### Практическое задание по теме \"Основы математической статистики. Количественные характеристики популяции. Графическое представление данных\""
   ]
  },
  {
   "cell_type": "markdown",
   "metadata": {
    "id": "9leijqvXdmm6"
   },
   "source": [
    "#### Задание 1.  \n",
    "\n",
    "*Даны значения зарплат из выборки выпускников:*  \n",
    "```\n",
    "100, 80, 75, 77, 89, 33, 45, 25, 65, 17, 30, 230, 24, 57, 55, 70, 75, 65, 84, 90, 150\n",
    "```\n",
    "*Используя только встроенные питоновские функции и структуры данных  \n",
    "(т.е. без библиотек `numpy`, `pandas` и др.), посчитайте (несмещённое)  \n",
    "среднее квадратичное отклонение для данной выборки.*"
   ]
  },
  {
   "cell_type": "code",
   "execution_count": 1,
   "metadata": {
    "id": "ZV1f2L_pdWX9"
   },
   "outputs": [],
   "source": [
    "x = (100, 80, 75, 77, 89, 33, 45, 25, 65, 17, 30, 230, 24, 57, 55, 70, 75, 65, 84, 90, 150)"
   ]
  },
  {
   "cell_type": "markdown",
   "metadata": {
    "id": "73aVzPLXeWBi"
   },
   "source": [
    "Сначала найдём выборочное среднее:"
   ]
  },
  {
   "cell_type": "code",
   "execution_count": 2,
   "metadata": {
    "colab": {
     "base_uri": "https://localhost:8080/"
    },
    "id": "uBzOD5-teRo8",
    "outputId": "2ffbcf1a-330b-408d-ba37-6fd657593e8f"
   },
   "outputs": [
    {
     "data": {
      "text/plain": [
       "73.14285714285714"
      ]
     },
     "execution_count": 2,
     "metadata": {},
     "output_type": "execute_result"
    }
   ],
   "source": [
    "x_mean = sum(x) / len(x)\n",
    "x_mean"
   ]
  },
  {
   "cell_type": "markdown",
   "metadata": {
    "id": "y7xfJKe0e6pU"
   },
   "source": [
    "Теперь найдём несмещенную оценку дисперсии:"
   ]
  },
  {
   "cell_type": "code",
   "execution_count": 3,
   "metadata": {
    "colab": {
     "base_uri": "https://localhost:8080/"
    },
    "id": "fc1ulxJhejTd",
    "outputId": "4325c63d-8ecd-4d81-8bdb-646dcd06dbe5"
   },
   "outputs": [
    {
     "data": {
      "text/plain": [
       "2241.8285714285716"
      ]
     },
     "execution_count": 3,
     "metadata": {},
     "output_type": "execute_result"
    }
   ],
   "source": [
    "x_var = sum((i - x_mean)**2 for i in x) / (len(x) - 1)\n",
    "x_var"
   ]
  },
  {
   "cell_type": "markdown",
   "metadata": {
    "id": "6wXcCWAifhjL"
   },
   "source": [
    "Среднеквадратичное отклонение будет равно корню из дисперсии:"
   ]
  },
  {
   "cell_type": "code",
   "execution_count": 4,
   "metadata": {
    "colab": {
     "base_uri": "https://localhost:8080/"
    },
    "id": "Ukcww47CfYMm",
    "outputId": "00c3590a-9dfb-417b-bb21-dc51317f1e12"
   },
   "outputs": [
    {
     "data": {
      "text/plain": [
       "47.34795213553139"
      ]
     },
     "execution_count": 4,
     "metadata": {},
     "output_type": "execute_result"
    }
   ],
   "source": [
    "x_std = x_var**0.5\n",
    "x_std"
   ]
  },
  {
   "cell_type": "markdown",
   "metadata": {
    "id": "oF9TO9x0f8hP"
   },
   "source": [
    "#### Задание 2.  \n",
    "*Найдите число выбросов в выборке из задачи 1. Для определения выбросов  \n",
    "используйте методику как при построении \"усов\" в `boxplot`, однако,  \n",
    "как и в задаче 1, пользоваться можно только встроенными функциями и  \n",
    "структурами данных.*"
   ]
  },
  {
   "cell_type": "markdown",
   "metadata": {
    "id": "zF1oeeC-gT5K"
   },
   "source": [
    "Нам нужно найти первый и третий квартили. Для этого посчитаем, делится ли  \n",
    "выборка на 4 равные части:"
   ]
  },
  {
   "cell_type": "code",
   "execution_count": 5,
   "metadata": {
    "colab": {
     "base_uri": "https://localhost:8080/"
    },
    "id": "svslQv-efs3l",
    "outputId": "6b6475a9-8a0e-4394-d826-cfc81f9cddcc"
   },
   "outputs": [
    {
     "data": {
      "text/plain": [
       "1"
      ]
     },
     "execution_count": 5,
     "metadata": {},
     "output_type": "execute_result"
    }
   ],
   "source": [
    "len(x) % 4"
   ]
  },
  {
   "cell_type": "markdown",
   "metadata": {
    "id": "owEMd020gzh-"
   },
   "source": [
    "Т.к. выборка не делится на 4 равные части, то первым квартилем будет элемент  \n",
    "с индексом (len(x) // 4) в отсортированной по возрастанию выборке, а  \n",
    "третьим квартилем будет элемент с индексом (3 * len(x) // 4):"
   ]
  },
  {
   "cell_type": "code",
   "execution_count": 6,
   "metadata": {
    "colab": {
     "base_uri": "https://localhost:8080/"
    },
    "id": "PJKJ9Zl4gfll",
    "outputId": "4f95901f-aaa0-4f50-83b5-b0e6cb5cf14c"
   },
   "outputs": [
    {
     "data": {
      "text/plain": [
       "(45, 84)"
      ]
     },
     "execution_count": 6,
     "metadata": {},
     "output_type": "execute_result"
    }
   ],
   "source": [
    "x = sorted(x)\n",
    "q_25 = x[len(x) // 4]\n",
    "q_75 = x[3 * len(x) // 4]\n",
    "(q_25, q_75)"
   ]
  },
  {
   "cell_type": "markdown",
   "metadata": {
    "id": "LvtlA8w5h8lb"
   },
   "source": [
    "Разница между q_75 и q_25 будет интерквартильным расстоянием:"
   ]
  },
  {
   "cell_type": "code",
   "execution_count": 7,
   "metadata": {
    "colab": {
     "base_uri": "https://localhost:8080/"
    },
    "id": "8oLz2GZ6hw2e",
    "outputId": "50955bb9-96bb-49b1-bcf8-4ef9394f609b"
   },
   "outputs": [
    {
     "data": {
      "text/plain": [
       "39"
      ]
     },
     "execution_count": 7,
     "metadata": {},
     "output_type": "execute_result"
    }
   ],
   "source": [
    "iqr = q_75 - q_25\n",
    "iqr"
   ]
  },
  {
   "cell_type": "markdown",
   "metadata": {
    "id": "-jJH9Z2eibuj"
   },
   "source": [
    "Найдем минимальное и максимальное значения, за пределами которых будут  \n",
    "находиться выбросы:"
   ]
  },
  {
   "cell_type": "code",
   "execution_count": 8,
   "metadata": {
    "colab": {
     "base_uri": "https://localhost:8080/"
    },
    "id": "Vbuq5RyjiNV8",
    "outputId": "b31e117b-cd36-4442-a451-b15d73668d06"
   },
   "outputs": [
    {
     "data": {
      "text/plain": [
       "(-13.5, 142.5)"
      ]
     },
     "execution_count": 8,
     "metadata": {},
     "output_type": "execute_result"
    }
   ],
   "source": [
    "whisk_min = q_25 - 1.5 * iqr\n",
    "whisk_max = q_75 + 1.5 * iqr\n",
    "(whisk_min, whisk_max)"
   ]
  },
  {
   "cell_type": "markdown",
   "metadata": {
    "id": "D48EcS8ii5ZZ"
   },
   "source": [
    "Теперь найдём число выбросов:"
   ]
  },
  {
   "cell_type": "code",
   "execution_count": 9,
   "metadata": {
    "colab": {
     "base_uri": "https://localhost:8080/"
    },
    "id": "M50WOYMoi0q1",
    "outputId": "cb769d35-0ed2-4227-c3ab-002d3f516866"
   },
   "outputs": [
    {
     "data": {
      "text/plain": [
       "2"
      ]
     },
     "execution_count": 9,
     "metadata": {},
     "output_type": "execute_result"
    }
   ],
   "source": [
    "outliers_num = sum(i < whisk_min or i > whisk_max for i in x)\n",
    "outliers_num"
   ]
  },
  {
   "cell_type": "markdown",
   "metadata": {
    "id": "iIKcR2NgjfAf"
   },
   "source": [
    "#### Задача 3.  \n",
    "*В университет на факультет A поступило 100 человек, на  \n",
    "факультет B - 90 человек и на факультет C - 45 человек.  \n",
    "Вероятность того, что студент с факультета A сдаст первую сессию,  \n",
    "равна 0.6. Для студента с факультета B эта вероятность равна 0.7,  \n",
    "а для студента с факультета C - 0.8. Случайным образом выбирается  \n",
    "студент, сдавший первую сессию. Какое событие наиболее вероятно:*\n",
    "1. студент учится на факультете A,\n",
    "2. студент учится на факультете B,\n",
    "3. студент учится на факультете C?\n",
    "\n",
    "*_Замечание_: да, эта задача не на тему статистики, но тема важная,  \n",
    "и её стоит иногда освежать в памяти.*"
   ]
  },
  {
   "cell_type": "markdown",
   "metadata": {
    "id": "q0oiZrQOkO3K"
   },
   "source": [
    "Обозначим события:  \n",
    "A - студент учится на факультете А;  \n",
    "B - студент учится на факультете B;  \n",
    "C - студент учится на факультете C;  \n",
    "H - студент сдал первую сессию."
   ]
  },
  {
   "cell_type": "markdown",
   "metadata": {
    "id": "K9Swp614mwVc"
   },
   "source": [
    "По условию задачи нам нужно найти, какая из вероятностей  \n",
    "P(A|H), P(B|H), P(C|H) - наибольшая."
   ]
  },
  {
   "cell_type": "markdown",
   "metadata": {
    "id": "CwZPfZgUkva7"
   },
   "source": [
    "Если общее число студентов равно (100+90+45) = 235, то  \n",
    "вероятность того, что случайно выбранный студент окажется  \n",
    "с факультета А равна:  "
   ]
  },
  {
   "cell_type": "code",
   "execution_count": 10,
   "metadata": {
    "colab": {
     "base_uri": "https://localhost:8080/"
    },
    "id": "Ew-inAsGjTiz",
    "outputId": "89095ff2-cec4-4f31-b695-012a9258fac6"
   },
   "outputs": [
    {
     "data": {
      "text/plain": [
       "0.425531914893617"
      ]
     },
     "execution_count": 10,
     "metadata": {},
     "output_type": "execute_result"
    }
   ],
   "source": [
    "P_A = 100 / 235\n",
    "P_A"
   ]
  },
  {
   "cell_type": "markdown",
   "metadata": {
    "id": "35jsGHSLmQSz"
   },
   "source": [
    "Аналогично рассчитаем вероятности, что студент окажется  \n",
    "с факультетов B и C:"
   ]
  },
  {
   "cell_type": "code",
   "execution_count": 11,
   "metadata": {
    "colab": {
     "base_uri": "https://localhost:8080/"
    },
    "id": "9gtRI9BSmLzN",
    "outputId": "ee222be7-5344-4a8e-e0f0-6606269592f2"
   },
   "outputs": [
    {
     "data": {
      "text/plain": [
       "0.3829787234042553"
      ]
     },
     "execution_count": 11,
     "metadata": {},
     "output_type": "execute_result"
    }
   ],
   "source": [
    "P_B = 90 / 235\n",
    "P_B"
   ]
  },
  {
   "cell_type": "code",
   "execution_count": 12,
   "metadata": {
    "colab": {
     "base_uri": "https://localhost:8080/"
    },
    "id": "5Rlp6MLXmlvc",
    "outputId": "33715f1b-eec5-442f-9b4c-cfdfad6e6fb5"
   },
   "outputs": [
    {
     "data": {
      "text/plain": [
       "0.19148936170212766"
      ]
     },
     "execution_count": 12,
     "metadata": {},
     "output_type": "execute_result"
    }
   ],
   "source": [
    "P_C = 45 / 235\n",
    "P_C"
   ]
  },
  {
   "cell_type": "markdown",
   "metadata": {
    "id": "ZSd_8Bl5nBOy"
   },
   "source": [
    "По условию задачи нам также даны вероятности  \n",
    "P(H|A), P(H|B), P(H|C). Они равны:"
   ]
  },
  {
   "cell_type": "code",
   "execution_count": 13,
   "metadata": {
    "id": "VYhShK6rmpGM"
   },
   "outputs": [],
   "source": [
    "P_HA = 0.6\n",
    "P_HB = 0.7\n",
    "P_HC = 0.8"
   ]
  },
  {
   "cell_type": "markdown",
   "metadata": {
    "id": "4fbGyLGonq80"
   },
   "source": [
    "Тогда, по формуле Байеса, мы можем найти вероятности,  \n",
    "которые нам и нужно сравнить. К примеру, вероятность,  \n",
    "что случайно выбранный студент, который сдал первую сессию,  \n",
    "окажется с факультета А, рассчитывается так:    \n",
    "<img src=\"https://latex.codecogs.com/svg.image?P(A|H)&space;=&space;\\dfrac{P(H|A)&space;\\cdot&space;P(A)}{P(H)}\" title=\"P(A|H) = \\dfrac{P(H|A) \\cdot P(A)}{P(H)}\" />  \n",
    "Вероятности оказаться с факультета В и С рассчитываются  \n",
    "аналогично."
   ]
  },
  {
   "cell_type": "markdown",
   "metadata": {
    "id": "RiKzD0qUovRo"
   },
   "source": [
    "В этой формуле нам неизвестно только Р(Н), т.е. вероятность того,  \n",
    "что выбранный студент вообще сдал первую сессию. Рассчитаем  \n",
    "эту вероятность по формуле полной вероятности:  \n",
    "<img src=\"https://latex.codecogs.com/svg.image?P(H)&space;=&space;P(H|A)&space;\\cdot&space;P(A)&space;&plus;&space;P(H|B)&space;\\cdot&space;P(B)&space;&plus;&space;P(H|C)&space;\\cdot&space;P(C)\" title=\"P(H) = P(H|A) \\cdot P(A) + P(H|B) \\cdot P(B) + P(H|C) \\cdot P(C)\" />"
   ]
  },
  {
   "cell_type": "code",
   "execution_count": 14,
   "metadata": {
    "colab": {
     "base_uri": "https://localhost:8080/"
    },
    "id": "mhSZA9I-nbnd",
    "outputId": "0abd1e2c-4620-4ecc-a750-a1a37af340c7"
   },
   "outputs": [
    {
     "data": {
      "text/plain": [
       "0.676595744680851"
      ]
     },
     "execution_count": 14,
     "metadata": {},
     "output_type": "execute_result"
    }
   ],
   "source": [
    "P_H = P_HA * P_A + P_HB * P_B + P_HC * P_C\n",
    "P_H"
   ]
  },
  {
   "cell_type": "markdown",
   "metadata": {
    "id": "6b269_Jhpr-X"
   },
   "source": [
    "Теперь найдём вероятности для случайного студента, сдавшего первую сессию,  \n",
    "оказаться на каждом из факультетов:  "
   ]
  },
  {
   "cell_type": "code",
   "execution_count": 15,
   "metadata": {
    "colab": {
     "base_uri": "https://localhost:8080/"
    },
    "id": "qpFpx3lIpnoV",
    "outputId": "1ec0ce00-d1c6-46c1-9945-b2693bc2c191"
   },
   "outputs": [
    {
     "data": {
      "text/plain": [
       "0.3773584905660377"
      ]
     },
     "execution_count": 15,
     "metadata": {},
     "output_type": "execute_result"
    }
   ],
   "source": [
    "P_AH = P_HA * P_A / P_H\n",
    "P_AH"
   ]
  },
  {
   "cell_type": "code",
   "execution_count": 16,
   "metadata": {
    "colab": {
     "base_uri": "https://localhost:8080/"
    },
    "id": "hM5_DfuXp_PM",
    "outputId": "04fdd720-1fa9-40f0-86e8-74bfd182b385"
   },
   "outputs": [
    {
     "data": {
      "text/plain": [
       "0.39622641509433965"
      ]
     },
     "execution_count": 16,
     "metadata": {},
     "output_type": "execute_result"
    }
   ],
   "source": [
    "P_BH = P_HB * P_B / P_H\n",
    "P_BH"
   ]
  },
  {
   "cell_type": "code",
   "execution_count": 17,
   "metadata": {
    "colab": {
     "base_uri": "https://localhost:8080/"
    },
    "id": "A0MkDRLbqB0M",
    "outputId": "bc88c67d-8c41-4d87-afcf-fa5ab1dda959"
   },
   "outputs": [
    {
     "data": {
      "text/plain": [
       "0.22641509433962265"
      ]
     },
     "execution_count": 17,
     "metadata": {},
     "output_type": "execute_result"
    }
   ],
   "source": [
    "P_CH = P_HC * P_C / P_H\n",
    "P_CH"
   ]
  },
  {
   "cell_type": "markdown",
   "metadata": {
    "id": "iVpIfZ3xqFu7"
   },
   "source": [
    "То есть, наиболее вероятно, что студент учится на факультете B."
   ]
  }
 ],
 "metadata": {
  "colab": {
   "collapsed_sections": [],
   "name": "Lesson_3_tasks.ipynb",
   "provenance": []
  },
  "kernelspec": {
   "display_name": "Python 3 (ipykernel)",
   "language": "python",
   "name": "python3"
  },
  "language_info": {
   "codemirror_mode": {
    "name": "ipython",
    "version": 3
   },
   "file_extension": ".py",
   "mimetype": "text/x-python",
   "name": "python",
   "nbconvert_exporter": "python",
   "pygments_lexer": "ipython3",
   "version": "3.9.7"
  }
 },
 "nbformat": 4,
 "nbformat_minor": 4
}
