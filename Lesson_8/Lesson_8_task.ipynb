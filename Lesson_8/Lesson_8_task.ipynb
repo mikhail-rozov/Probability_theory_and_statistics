{
 "cells": [
  {
   "cell_type": "markdown",
   "metadata": {
    "id": "hWL3WBXrgBp1"
   },
   "source": [
    "### Практическое задание к уроку № 8 по теме \"Дисперсионный анализ. Метод главных компонент. Логистическая регрессия\"."
   ]
  },
  {
   "cell_type": "markdown",
   "metadata": {
    "id": "3CB1b_bHgL1s"
   },
   "source": [
    "#### Задание 1.  \n",
    "*Используя данные о хоккеистах (скачать можно здесь), проверьте,  \n",
    "является ли среди хоккеистов из Финляндии, Норвегии и Дании значимым отличие:  \n",
    "а) роста, б) BMI.*"
   ]
  },
  {
   "cell_type": "code",
   "execution_count": 1,
   "metadata": {
    "id": "uSeV2yxMf7vX"
   },
   "outputs": [],
   "source": [
    "import numpy as np\n",
    "import pandas as pd\n",
    "from scipy import stats"
   ]
  },
  {
   "cell_type": "markdown",
   "metadata": {
    "id": "aIVv1jgU2pmg"
   },
   "source": [
    "Загрузим датасет:"
   ]
  },
  {
   "cell_type": "code",
   "execution_count": 2,
   "metadata": {
    "colab": {
     "base_uri": "https://localhost:8080/",
     "height": 206
    },
    "id": "W8VBLYZ2h6Jl",
    "outputId": "8417776a-e1ab-44f1-e43a-5445a3dc4dd6"
   },
   "outputs": [
    {
     "data": {
      "text/html": [
       "<div>\n",
       "<style scoped>\n",
       "    .dataframe tbody tr th:only-of-type {\n",
       "        vertical-align: middle;\n",
       "    }\n",
       "\n",
       "    .dataframe tbody tr th {\n",
       "        vertical-align: top;\n",
       "    }\n",
       "\n",
       "    .dataframe thead th {\n",
       "        text-align: right;\n",
       "    }\n",
       "</style>\n",
       "<table border=\"1\" class=\"dataframe\">\n",
       "  <thead>\n",
       "    <tr style=\"text-align: right;\">\n",
       "      <th></th>\n",
       "      <th>year</th>\n",
       "      <th>country</th>\n",
       "      <th>no</th>\n",
       "      <th>name</th>\n",
       "      <th>position</th>\n",
       "      <th>side</th>\n",
       "      <th>height</th>\n",
       "      <th>weight</th>\n",
       "      <th>birth</th>\n",
       "      <th>club</th>\n",
       "      <th>age</th>\n",
       "      <th>cohort</th>\n",
       "      <th>bmi</th>\n",
       "    </tr>\n",
       "  </thead>\n",
       "  <tbody>\n",
       "    <tr>\n",
       "      <th>0</th>\n",
       "      <td>2001</td>\n",
       "      <td>RUS</td>\n",
       "      <td>10</td>\n",
       "      <td>tverdovsky oleg</td>\n",
       "      <td>D</td>\n",
       "      <td>L</td>\n",
       "      <td>185</td>\n",
       "      <td>84.0</td>\n",
       "      <td>1976-05-18</td>\n",
       "      <td>anaheim mighty ducks</td>\n",
       "      <td>24.952772</td>\n",
       "      <td>1976</td>\n",
       "      <td>24.543462</td>\n",
       "    </tr>\n",
       "    <tr>\n",
       "      <th>1</th>\n",
       "      <td>2001</td>\n",
       "      <td>RUS</td>\n",
       "      <td>2</td>\n",
       "      <td>vichnevsky vitali</td>\n",
       "      <td>D</td>\n",
       "      <td>L</td>\n",
       "      <td>188</td>\n",
       "      <td>86.0</td>\n",
       "      <td>1980-03-18</td>\n",
       "      <td>anaheim mighty ducks</td>\n",
       "      <td>21.119781</td>\n",
       "      <td>1980</td>\n",
       "      <td>24.332277</td>\n",
       "    </tr>\n",
       "    <tr>\n",
       "      <th>2</th>\n",
       "      <td>2001</td>\n",
       "      <td>RUS</td>\n",
       "      <td>26</td>\n",
       "      <td>petrochinin evgeni</td>\n",
       "      <td>D</td>\n",
       "      <td>L</td>\n",
       "      <td>182</td>\n",
       "      <td>95.0</td>\n",
       "      <td>1976-02-07</td>\n",
       "      <td>severstal cherepovetal</td>\n",
       "      <td>25.229295</td>\n",
       "      <td>1976</td>\n",
       "      <td>28.680111</td>\n",
       "    </tr>\n",
       "    <tr>\n",
       "      <th>3</th>\n",
       "      <td>2001</td>\n",
       "      <td>RUS</td>\n",
       "      <td>28</td>\n",
       "      <td>zhdan alexander</td>\n",
       "      <td>D</td>\n",
       "      <td>R</td>\n",
       "      <td>178</td>\n",
       "      <td>85.0</td>\n",
       "      <td>1971-08-28</td>\n",
       "      <td>ak bars kazan</td>\n",
       "      <td>29.675565</td>\n",
       "      <td>1971</td>\n",
       "      <td>26.827421</td>\n",
       "    </tr>\n",
       "    <tr>\n",
       "      <th>4</th>\n",
       "      <td>2001</td>\n",
       "      <td>RUS</td>\n",
       "      <td>32</td>\n",
       "      <td>orekhovsky oleg</td>\n",
       "      <td>D</td>\n",
       "      <td>R</td>\n",
       "      <td>175</td>\n",
       "      <td>88.0</td>\n",
       "      <td>1977-11-03</td>\n",
       "      <td>dynamo moscow</td>\n",
       "      <td>23.490760</td>\n",
       "      <td>1977</td>\n",
       "      <td>28.734694</td>\n",
       "    </tr>\n",
       "  </tbody>\n",
       "</table>\n",
       "</div>"
      ],
      "text/plain": [
       "   year country  no                 name position side  height  weight  \\\n",
       "0  2001     RUS  10     tverdovsky oleg         D    L     185    84.0   \n",
       "1  2001     RUS   2   vichnevsky vitali         D    L     188    86.0   \n",
       "2  2001     RUS  26  petrochinin evgeni         D    L     182    95.0   \n",
       "3  2001     RUS  28     zhdan alexander         D    R     178    85.0   \n",
       "4  2001     RUS  32     orekhovsky oleg         D    R     175    88.0   \n",
       "\n",
       "        birth                     club        age  cohort        bmi  \n",
       "0  1976-05-18    anaheim mighty ducks   24.952772    1976  24.543462  \n",
       "1  1980-03-18    anaheim mighty ducks   21.119781    1980  24.332277  \n",
       "2  1976-02-07  severstal cherepovetal   25.229295    1976  28.680111  \n",
       "3  1971-08-28           ak bars kazan   29.675565    1971  26.827421  \n",
       "4  1977-11-03           dynamo moscow   23.490760    1977  28.734694  "
      ]
     },
     "execution_count": 2,
     "metadata": {},
     "output_type": "execute_result"
    }
   ],
   "source": [
    "df = pd.read_csv('./hockey_players.csv', encoding='cp1252')\n",
    "df.head()"
   ]
  },
  {
   "cell_type": "markdown",
   "metadata": {
    "id": "NNaJy-Tu2smT"
   },
   "source": [
    "Посмотрим уникальные значения стран:"
   ]
  },
  {
   "cell_type": "code",
   "execution_count": 3,
   "metadata": {
    "colab": {
     "base_uri": "https://localhost:8080/"
    },
    "id": "yrAQJ7pZ1r_l",
    "outputId": "fe501f24-b082-4751-9a49-4935d209ada3"
   },
   "outputs": [
    {
     "data": {
      "text/plain": [
       "array(['RUS', 'AUT', 'BLR', 'CAN', 'CZE', 'FIN', 'GER', 'ITA', 'JPN',\n",
       "       'LAT', 'NOR', 'SUI', 'SVK', 'SWE', 'UKR', 'USA', 'POL', 'SLO',\n",
       "       'DEN', 'FRA', 'KAZ', 'HUN'], dtype=object)"
      ]
     },
     "execution_count": 3,
     "metadata": {},
     "output_type": "execute_result"
    }
   ],
   "source": [
    "df['country'].unique()"
   ]
  },
  {
   "cell_type": "markdown",
   "metadata": {
    "id": "oxqsjRwa_Dhq"
   },
   "source": [
    "Посмотрим на наличие дублирующих записей в датасете:"
   ]
  },
  {
   "cell_type": "code",
   "execution_count": 4,
   "metadata": {
    "colab": {
     "base_uri": "https://localhost:8080/",
     "height": 424
    },
    "id": "e0NCANsm9pzc",
    "outputId": "a64702d7-5849-4ea2-a55c-030d4c65b0c5"
   },
   "outputs": [
    {
     "data": {
      "text/html": [
       "<div>\n",
       "<style scoped>\n",
       "    .dataframe tbody tr th:only-of-type {\n",
       "        vertical-align: middle;\n",
       "    }\n",
       "\n",
       "    .dataframe tbody tr th {\n",
       "        vertical-align: top;\n",
       "    }\n",
       "\n",
       "    .dataframe thead th {\n",
       "        text-align: right;\n",
       "    }\n",
       "</style>\n",
       "<table border=\"1\" class=\"dataframe\">\n",
       "  <thead>\n",
       "    <tr style=\"text-align: right;\">\n",
       "      <th></th>\n",
       "      <th>year</th>\n",
       "      <th>country</th>\n",
       "      <th>no</th>\n",
       "      <th>name</th>\n",
       "      <th>position</th>\n",
       "      <th>side</th>\n",
       "      <th>height</th>\n",
       "      <th>weight</th>\n",
       "      <th>birth</th>\n",
       "      <th>club</th>\n",
       "      <th>age</th>\n",
       "      <th>cohort</th>\n",
       "      <th>bmi</th>\n",
       "    </tr>\n",
       "  </thead>\n",
       "  <tbody>\n",
       "    <tr>\n",
       "      <th>379</th>\n",
       "      <td>2002</td>\n",
       "      <td>RUS</td>\n",
       "      <td>25</td>\n",
       "      <td>zhukov sergei</td>\n",
       "      <td>D</td>\n",
       "      <td>L</td>\n",
       "      <td>193</td>\n",
       "      <td>92.0</td>\n",
       "      <td>1975-11-23</td>\n",
       "      <td>lokomotiv yaroslavl</td>\n",
       "      <td>26.436687</td>\n",
       "      <td>1975</td>\n",
       "      <td>24.698650</td>\n",
       "    </tr>\n",
       "    <tr>\n",
       "      <th>387</th>\n",
       "      <td>2002</td>\n",
       "      <td>RUS</td>\n",
       "      <td>13</td>\n",
       "      <td>razin andrei</td>\n",
       "      <td>F</td>\n",
       "      <td>L</td>\n",
       "      <td>181</td>\n",
       "      <td>83.0</td>\n",
       "      <td>1973-10-23</td>\n",
       "      <td>dynamo moskva</td>\n",
       "      <td>28.520192</td>\n",
       "      <td>1973</td>\n",
       "      <td>25.335002</td>\n",
       "    </tr>\n",
       "    <tr>\n",
       "      <th>390</th>\n",
       "      <td>2002</td>\n",
       "      <td>RUS</td>\n",
       "      <td>23</td>\n",
       "      <td>prokopiev alexander</td>\n",
       "      <td>F</td>\n",
       "      <td>R</td>\n",
       "      <td>181</td>\n",
       "      <td>85.0</td>\n",
       "      <td>1971-06-10</td>\n",
       "      <td>avangard omsk</td>\n",
       "      <td>30.891170</td>\n",
       "      <td>1971</td>\n",
       "      <td>25.945484</td>\n",
       "    </tr>\n",
       "    <tr>\n",
       "      <th>393</th>\n",
       "      <td>2002</td>\n",
       "      <td>RUS</td>\n",
       "      <td>27</td>\n",
       "      <td>gusmanov ravil</td>\n",
       "      <td>F</td>\n",
       "      <td>L</td>\n",
       "      <td>186</td>\n",
       "      <td>87.0</td>\n",
       "      <td>1972-07-25</td>\n",
       "      <td>metallurg magnitogorsk</td>\n",
       "      <td>29.765914</td>\n",
       "      <td>1972</td>\n",
       "      <td>25.147416</td>\n",
       "    </tr>\n",
       "    <tr>\n",
       "      <th>396</th>\n",
       "      <td>2002</td>\n",
       "      <td>RUS</td>\n",
       "      <td>44</td>\n",
       "      <td>karpov valeri</td>\n",
       "      <td>F</td>\n",
       "      <td>L</td>\n",
       "      <td>178</td>\n",
       "      <td>92.0</td>\n",
       "      <td>1971-08-05</td>\n",
       "      <td>metallurg magnitogorsk</td>\n",
       "      <td>30.737851</td>\n",
       "      <td>1971</td>\n",
       "      <td>29.036738</td>\n",
       "    </tr>\n",
       "    <tr>\n",
       "      <th>...</th>\n",
       "      <td>...</td>\n",
       "      <td>...</td>\n",
       "      <td>...</td>\n",
       "      <td>...</td>\n",
       "      <td>...</td>\n",
       "      <td>...</td>\n",
       "      <td>...</td>\n",
       "      <td>...</td>\n",
       "      <td>...</td>\n",
       "      <td>...</td>\n",
       "      <td>...</td>\n",
       "      <td>...</td>\n",
       "      <td>...</td>\n",
       "    </tr>\n",
       "    <tr>\n",
       "      <th>6271</th>\n",
       "      <td>2016</td>\n",
       "      <td>USA</td>\n",
       "      <td>5</td>\n",
       "      <td>murphy connor</td>\n",
       "      <td>D</td>\n",
       "      <td>R</td>\n",
       "      <td>193</td>\n",
       "      <td>96.0</td>\n",
       "      <td>1993-03-26</td>\n",
       "      <td>arizona coyotes</td>\n",
       "      <td>23.099247</td>\n",
       "      <td>1993</td>\n",
       "      <td>25.772504</td>\n",
       "    </tr>\n",
       "    <tr>\n",
       "      <th>6276</th>\n",
       "      <td>2016</td>\n",
       "      <td>USA</td>\n",
       "      <td>11</td>\n",
       "      <td>nelson brock</td>\n",
       "      <td>F</td>\n",
       "      <td>L</td>\n",
       "      <td>191</td>\n",
       "      <td>93.0</td>\n",
       "      <td>1991-10-15</td>\n",
       "      <td>new york islanders</td>\n",
       "      <td>24.544832</td>\n",
       "      <td>1991</td>\n",
       "      <td>25.492722</td>\n",
       "    </tr>\n",
       "    <tr>\n",
       "      <th>6280</th>\n",
       "      <td>2016</td>\n",
       "      <td>USA</td>\n",
       "      <td>21</td>\n",
       "      <td>larkin dylan</td>\n",
       "      <td>F</td>\n",
       "      <td>L</td>\n",
       "      <td>185</td>\n",
       "      <td>86.0</td>\n",
       "      <td>1996-07-30</td>\n",
       "      <td>detroit red wings</td>\n",
       "      <td>19.753593</td>\n",
       "      <td>1996</td>\n",
       "      <td>25.127831</td>\n",
       "    </tr>\n",
       "    <tr>\n",
       "      <th>6281</th>\n",
       "      <td>2016</td>\n",
       "      <td>USA</td>\n",
       "      <td>23</td>\n",
       "      <td>hendricks matt</td>\n",
       "      <td>F</td>\n",
       "      <td>L</td>\n",
       "      <td>183</td>\n",
       "      <td>94.0</td>\n",
       "      <td>1981-06-17</td>\n",
       "      <td>edmonton oilers</td>\n",
       "      <td>34.872005</td>\n",
       "      <td>1981</td>\n",
       "      <td>28.068918</td>\n",
       "    </tr>\n",
       "    <tr>\n",
       "      <th>6287</th>\n",
       "      <td>2016</td>\n",
       "      <td>USA</td>\n",
       "      <td>71</td>\n",
       "      <td>foligno nick</td>\n",
       "      <td>F</td>\n",
       "      <td>L</td>\n",
       "      <td>183</td>\n",
       "      <td>95.0</td>\n",
       "      <td>1987-10-31</td>\n",
       "      <td>columbus blue jackets</td>\n",
       "      <td>28.501027</td>\n",
       "      <td>1987</td>\n",
       "      <td>28.367524</td>\n",
       "    </tr>\n",
       "  </tbody>\n",
       "</table>\n",
       "<p>2973 rows × 13 columns</p>\n",
       "</div>"
      ],
      "text/plain": [
       "      year country  no                  name position side  height  weight  \\\n",
       "379   2002     RUS  25        zhukov sergei         D    L     193    92.0   \n",
       "387   2002     RUS  13         razin andrei         F    L     181    83.0   \n",
       "390   2002     RUS  23  prokopiev alexander         F    R     181    85.0   \n",
       "393   2002     RUS  27       gusmanov ravil         F    L     186    87.0   \n",
       "396   2002     RUS  44        karpov valeri         F    L     178    92.0   \n",
       "...    ...     ...  ..                   ...      ...  ...     ...     ...   \n",
       "6271  2016     USA   5         murphy connor        D    R     193    96.0   \n",
       "6276  2016     USA  11          nelson brock        F    L     191    93.0   \n",
       "6280  2016     USA  21          larkin dylan        F    L     185    86.0   \n",
       "6281  2016     USA  23        hendricks matt        F    L     183    94.0   \n",
       "6287  2016     USA  71          foligno nick        F    L     183    95.0   \n",
       "\n",
       "           birth                     club        age  cohort        bmi  \n",
       "379   1975-11-23     lokomotiv yaroslavl   26.436687    1975  24.698650  \n",
       "387   1973-10-23           dynamo moskva   28.520192    1973  25.335002  \n",
       "390   1971-06-10           avangard omsk   30.891170    1971  25.945484  \n",
       "393   1972-07-25  metallurg magnitogorsk   29.765914    1972  25.147416  \n",
       "396   1971-08-05  metallurg magnitogorsk   30.737851    1971  29.036738  \n",
       "...          ...                      ...        ...     ...        ...  \n",
       "6271  1993-03-26          arizona coyotes  23.099247    1993  25.772504  \n",
       "6276  1991-10-15       new york islanders  24.544832    1991  25.492722  \n",
       "6280  1996-07-30        detroit red wings  19.753593    1996  25.127831  \n",
       "6281  1981-06-17          edmonton oilers  34.872005    1981  28.068918  \n",
       "6287  1987-10-31    columbus blue jackets  28.501027    1987  28.367524  \n",
       "\n",
       "[2973 rows x 13 columns]"
      ]
     },
     "execution_count": 4,
     "metadata": {},
     "output_type": "execute_result"
    }
   ],
   "source": [
    "df[df.duplicated(subset=['birth', 'name', 'country'])]"
   ]
  },
  {
   "cell_type": "markdown",
   "metadata": {
    "id": "Z3ojII81_UT9"
   },
   "source": [
    "Удаляем дубликаты:"
   ]
  },
  {
   "cell_type": "code",
   "execution_count": 5,
   "metadata": {
    "id": "gmqqnevM-gJf"
   },
   "outputs": [],
   "source": [
    "df = df.drop_duplicates(subset=['name', 'birth', 'country'])"
   ]
  },
  {
   "cell_type": "markdown",
   "metadata": {
    "id": "LtkZFFPV2xGB"
   },
   "source": [
    "Обозначим за переменные интересующие нас факторы по странам:"
   ]
  },
  {
   "cell_type": "code",
   "execution_count": 6,
   "metadata": {
    "id": "FDF5HsvHiIVk"
   },
   "outputs": [],
   "source": [
    "fin_height = np.array(df.loc[df['country'] == 'FIN', 'height'])\n",
    "nor_height = np.array(df.loc[df['country'] == 'NOR', 'height'])\n",
    "den_height = np.array(df.loc[df['country'] == 'DEN', 'height'])\n",
    "\n",
    "fin_bmi = np.array(df.loc[df['country'] == 'FIN', 'bmi'])\n",
    "nor_bmi = np.array(df.loc[df['country'] == 'NOR', 'bmi'])\n",
    "den_bmi = np.array(df.loc[df['country'] == 'DEN', 'bmi'])"
   ]
  },
  {
   "cell_type": "markdown",
   "metadata": {
    "id": "ZwXBjw0p26WO"
   },
   "source": [
    "Будем использовать дисперсионный анализ. За нулевую гипотезу примем то,  \n",
    "что страна происхождения хоккеиста не влияет на значение целевого признака  \n",
    "(рост, BMI).  \n",
    "Зададим уровень значимости для проверки гипотезы:"
   ]
  },
  {
   "cell_type": "code",
   "execution_count": 7,
   "metadata": {
    "id": "kSTWzx1gt-a8"
   },
   "outputs": [],
   "source": [
    "alpha = 0.05"
   ]
  },
  {
   "cell_type": "markdown",
   "metadata": {
    "id": "_pzxjYcP3-Fk"
   },
   "source": [
    "Весь расчёт обозначим внутри функции, чтобы не дублировать код при  \n",
    "выборе другого целевого признака:"
   ]
  },
  {
   "cell_type": "code",
   "execution_count": 8,
   "metadata": {
    "id": "KaagzcsLl0SU"
   },
   "outputs": [],
   "source": [
    "def analyze(y1, y2, y3):\n",
    "    \n",
    "    # Подготавливаем данные\n",
    "    samples = (y1, y2, y3)\n",
    "    Y = np.concatenate([y1, y2, y3])\n",
    "    \n",
    "    # Считаем суммы квадратов отклонений между группами и \n",
    "    # внутри групп для дальнейшего расчёта\n",
    "    SSb = sum((yi.mean() - Y.mean())**2 * yi.shape[0] for yi in samples)\n",
    "    SSw = sum(sum((yi - yi.mean())**2) for yi in samples)\n",
    "\n",
    "    # Расчёт соответствующих дисперсий для расчёта F-статистики\n",
    "    k = len(samples)\n",
    "    n = Y.shape[0]\n",
    "    sigma2_b = SSb / (k - 1)\n",
    "    sigma2_w = SSw / (n - k)\n",
    "\n",
    "    # Расчёт F-статистики\n",
    "    F = sigma2_b / sigma2_w\n",
    "    print(f'Статистика F: {F}')\n",
    "\n",
    "    # Нахождение критической области при распределении Фишера\n",
    "    k1 = k - 1\n",
    "    k2 = n - k\n",
    "    t = stats.f.ppf(1-alpha, k1, k2)\n",
    "    print(f'k1: {k1}, k2: {k2}')\n",
    "    print(f'Критическая область: ({t}, +inf)')\n",
    "\n",
    "    # Вывод о принятии / непринятии нулевой гипотезы\n",
    "    my_str = ''\n",
    "    if F < t:\n",
    "        my_str = 'НЕ '\n",
    "    \n",
    "    print(f'\\nЗначение статистики {my_str}попало в критическую область, ' \\\n",
    "          f'значит для хоккеистов из этих стран \\nотличие по этому фактору ' \\\n",
    "          f'{my_str}является значимым.')\n"
   ]
  },
  {
   "cell_type": "markdown",
   "metadata": {
    "id": "K7NeK5W16qJj"
   },
   "source": [
    "Проверим значимость по фактору роста:"
   ]
  },
  {
   "cell_type": "code",
   "execution_count": 9,
   "metadata": {
    "colab": {
     "base_uri": "https://localhost:8080/"
    },
    "id": "D18l7x7Hws6y",
    "outputId": "2d58629b-d705-485d-84e9-86f44f86c5a2"
   },
   "outputs": [
    {
     "name": "stdout",
     "output_type": "stream",
     "text": [
      "Статистика F: 3.5934575072406427\n",
      "k1: 2, k2: 430\n",
      "Критическая область: (3.016700272452327, +inf)\n",
      "\n",
      "Значение статистики попало в критическую область, значит для хоккеистов из этих стран \n",
      "отличие по этому фактору является значимым.\n"
     ]
    }
   ],
   "source": [
    "analyze(fin_height, nor_height, den_height)"
   ]
  },
  {
   "cell_type": "markdown",
   "metadata": {
    "id": "ra8SKV7s6ud6"
   },
   "source": [
    "Значимость по фактору BMI:"
   ]
  },
  {
   "cell_type": "code",
   "execution_count": 10,
   "metadata": {
    "colab": {
     "base_uri": "https://localhost:8080/"
    },
    "id": "Rj0VNDnXw4uB",
    "outputId": "c2d5a838-8674-45c5-8463-4883da85b90d"
   },
   "outputs": [
    {
     "name": "stdout",
     "output_type": "stream",
     "text": [
      "Статистика F: 8.68251342053196\n",
      "k1: 2, k2: 430\n",
      "Критическая область: (3.016700272452327, +inf)\n",
      "\n",
      "Значение статистики попало в критическую область, значит для хоккеистов из этих стран \n",
      "отличие по этому фактору является значимым.\n"
     ]
    }
   ],
   "source": [
    "analyze(fin_bmi, nor_bmi, den_bmi)"
   ]
  },
  {
   "cell_type": "markdown",
   "metadata": {
    "id": "hxU9lixZ548H"
   },
   "source": [
    "<u>Вывод:</u> по обоим факторам отличия являются значимыми."
   ]
  },
  {
   "cell_type": "code",
   "execution_count": null,
   "metadata": {
    "id": "Mg1lfHbmxyMh"
   },
   "outputs": [],
   "source": []
  }
 ],
 "metadata": {
  "colab": {
   "collapsed_sections": [],
   "name": "Lesson_8_task.ipynb",
   "provenance": []
  },
  "kernelspec": {
   "display_name": "Python 3 (ipykernel)",
   "language": "python",
   "name": "python3"
  },
  "language_info": {
   "codemirror_mode": {
    "name": "ipython",
    "version": 3
   },
   "file_extension": ".py",
   "mimetype": "text/x-python",
   "name": "python",
   "nbconvert_exporter": "python",
   "pygments_lexer": "ipython3",
   "version": "3.9.7"
  }
 },
 "nbformat": 4,
 "nbformat_minor": 4
}
