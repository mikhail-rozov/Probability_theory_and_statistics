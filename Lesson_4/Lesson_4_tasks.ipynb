{
 "cells": [
  {
   "cell_type": "markdown",
   "metadata": {
    "id": "MKWtGKySnXyP"
   },
   "source": [
    "### Практическое задание по теме \"Непрерывные случайные величины. Функция распределения и функция плотности. Нормальное распределение. Центральная предельная теорема\""
   ]
  },
  {
   "cell_type": "markdown",
   "metadata": {
    "id": "1xQsa6gQnm7p"
   },
   "source": [
    "#### Задание 1.\n",
    "*Случайная непрерывная величина A имеет равномерное распределение  \n",
    "на промежутке (200, 800].  \n",
    "Найдите ее среднее значение и дисперсию.*\n"
   ]
  },
  {
   "cell_type": "markdown",
   "metadata": {
    "id": "bGGAxOHJn2NZ"
   },
   "source": [
    "Т.к. случайная величина непрерывная, то не имеет значения, включена  \n",
    "или нет граница промежутка в интервал.  "
   ]
  },
  {
   "cell_type": "code",
   "execution_count": 1,
   "metadata": {
    "id": "6mn9fkdho0eg"
   },
   "outputs": [],
   "source": [
    "a = 200\n",
    "b = 800"
   ]
  },
  {
   "cell_type": "markdown",
   "metadata": {
    "id": "df6jjO5goY77"
   },
   "source": [
    "Математическое ожидание:  \n",
    "<img src=\"https://latex.codecogs.com/svg.image?M(X)&space;=&space;\\dfrac{a&space;&plus;&space;b}{2}\" title=\"M(X) = \\dfrac{a + b}{2}\" />"
   ]
  },
  {
   "cell_type": "code",
   "execution_count": 2,
   "metadata": {
    "colab": {
     "base_uri": "https://localhost:8080/"
    },
    "id": "ehbQBFPNnU54",
    "outputId": "a4b271c9-c45c-46fa-9866-76ef51fa0742"
   },
   "outputs": [
    {
     "data": {
      "text/plain": [
       "500.0"
      ]
     },
     "execution_count": 2,
     "metadata": {},
     "output_type": "execute_result"
    }
   ],
   "source": [
    "M_X = (a + b) / 2\n",
    "M_X"
   ]
  },
  {
   "cell_type": "markdown",
   "metadata": {
    "id": "s6iaJldYo7wc"
   },
   "source": [
    "Дисперсия:  \n",
    "<img src=\"https://latex.codecogs.com/svg.image?D(X)&space;=&space;\\dfrac{(b&space;-&space;a)^2}{12}\" title=\"D(X) = \\dfrac{(b - a)^2}{12}\" />"
   ]
  },
  {
   "cell_type": "code",
   "execution_count": 3,
   "metadata": {
    "colab": {
     "base_uri": "https://localhost:8080/"
    },
    "id": "_RgRgEo8o6GQ",
    "outputId": "a5239751-faad-4910-ceb4-d3be2041f741"
   },
   "outputs": [
    {
     "data": {
      "text/plain": [
       "30000.0"
      ]
     },
     "execution_count": 3,
     "metadata": {},
     "output_type": "execute_result"
    }
   ],
   "source": [
    "D_X = (b - a)**2 / 12\n",
    "D_X"
   ]
  },
  {
   "cell_type": "markdown",
   "metadata": {
    "id": "YXm6zpCFpQfP"
   },
   "source": [
    "#### Задание 2.  \n",
    "*О случайной непрерывной равномерно распределенной величине B известно,  \n",
    "что ее дисперсия равна 0.2.  \n",
    "Можно ли найти правую границу величины B и ее среднее значение зная,  \n",
    "что левая граница равна 0.5?  \n",
    "Если да, найдите ее.*"
   ]
  },
  {
   "cell_type": "markdown",
   "metadata": {
    "id": "3sRVVdT9reZy"
   },
   "source": [
    "Здесь D(B) = 0.2, a = 0.5.  "
   ]
  },
  {
   "cell_type": "code",
   "execution_count": 4,
   "metadata": {
    "id": "4Ink6uxLrfwG"
   },
   "outputs": [],
   "source": [
    "D_B = 0.2\n",
    "a = 0.5"
   ]
  },
  {
   "cell_type": "markdown",
   "metadata": {
    "id": "2Ip4euk7poaY"
   },
   "source": [
    "Нужно найти b и M(B).  \n",
    "Сначала выразим b через формулу дисперсии:  \n",
    "<img src=\"https://latex.codecogs.com/svg.image?D(B)&space;=&space;\\dfrac{(b&space;-&space;a)^2}{12}\" title=\"D(B) = \\dfrac{(b - a)^2}{12}\" /> \n",
    "<br>\n",
    "<img src=\"https://latex.codecogs.com/svg.image?b&space;=&space;\\sqrt{12&space;\\cdot&space;D(B)}&space;&plus;&space;a\" title=\"b = \\sqrt{12 \\cdot D(B)} + a\" />"
   ]
  },
  {
   "cell_type": "code",
   "execution_count": 5,
   "metadata": {
    "colab": {
     "base_uri": "https://localhost:8080/"
    },
    "id": "czSyBtFopDWh",
    "outputId": "2e15ca3c-a4e2-4c6f-ea42-5a66f3722c0b"
   },
   "outputs": [
    {
     "data": {
      "text/plain": [
       "2.049193338482967"
      ]
     },
     "execution_count": 5,
     "metadata": {},
     "output_type": "execute_result"
    }
   ],
   "source": [
    "b = (12 * D_B)**0.5 + a\n",
    "b"
   ]
  },
  {
   "cell_type": "markdown",
   "metadata": {
    "id": "cyjaihPzr06G"
   },
   "source": [
    "Теперь найдём среднее значение:"
   ]
  },
  {
   "cell_type": "code",
   "execution_count": 6,
   "metadata": {
    "colab": {
     "base_uri": "https://localhost:8080/"
    },
    "id": "HLoWg9TvrpRp",
    "outputId": "469701de-0211-45c7-a337-13803b3da98c"
   },
   "outputs": [
    {
     "data": {
      "text/plain": [
       "1.2745966692414834"
      ]
     },
     "execution_count": 6,
     "metadata": {},
     "output_type": "execute_result"
    }
   ],
   "source": [
    "M_B = (a + b) / 2\n",
    "M_B"
   ]
  },
  {
   "cell_type": "markdown",
   "metadata": {
    "id": "K4Sc4nJFsWdc"
   },
   "source": [
    "#### Задание 3.  \n",
    "*Непрерывная случайная величина X распределена нормально и задана плотностью распределения*  \n",
    "<img src=\"https://latex.codecogs.com/svg.image?f(x)&space;=&space;\\dfrac{1}{4&space;\\sqrt{2\\pi}}&space;\\cdot&space;e^{-&space;\\dfrac{(x&space;&plus;&space;2)^2}{32}}\" title=\"f(x) = \\dfrac{1}{4 \\sqrt{2\\pi}} \\cdot e^{- \\dfrac{(x + 2)^2}{32}}\" />  \n",
    "\n",
    "*Найдите:  \n",
    "а). M(X)  \n",
    "б). D(X)  \n",
    "в). std(X) (среднее квадратичное отклонение)*\n"
   ]
  },
  {
   "cell_type": "markdown",
   "metadata": {
    "id": "ETUHwivitXz3"
   },
   "source": [
    "В общем виде формула плотности распределения выглядит следующим образом:  \n",
    "<img src=\"https://latex.codecogs.com/svg.image?f(x)&space;=&space;\\dfrac{1}{\\sqrt{2\\pi\\sigma^2}}&space;\\cdot&space;e^{-&space;\\dfrac{(x&space;-&space;\\mu)^2}{2\\sigma^2}}\" title=\"f(x) = \\dfrac{1}{\\sqrt{2\\pi\\sigma^2}} \\cdot e^{- \\dfrac{(x - \\mu)^2}{2\\sigma^2}}\" />"
   ]
  },
  {
   "cell_type": "markdown",
   "metadata": {
    "id": "vX1pzATBuE-m"
   },
   "source": [
    "Отсюда видно, что в нашем случае <img src=\"https://latex.codecogs.com/svg.image?\\sigma&space;=&space;4\" title=\"\\sigma = 4\" />, <img src=\"https://latex.codecogs.com/svg.image?\\mu&space;=&space;-2\" title=\"\\mu = -2\" />."
   ]
  },
  {
   "cell_type": "markdown",
   "metadata": {
    "id": "M-pg9nppukwf"
   },
   "source": [
    "Математическое ожидаение равно:  \n",
    "<img src=\"https://latex.codecogs.com/svg.image?M(X)&space;=&space;\\mu&space;=&space;-2\" title=\"M(X) = \\mu = -2\" />\n"
   ]
  },
  {
   "cell_type": "markdown",
   "metadata": {
    "id": "wbd2RB-dvx5V"
   },
   "source": [
    "Дисперсия равна:  \n",
    "<img src=\"https://latex.codecogs.com/svg.image?D(X)&space;=&space;\\sigma^2&space;=&space;4^2&space;=&space;16\" title=\"D(X) = \\sigma^2 = 4^2 = 16\" />"
   ]
  },
  {
   "cell_type": "markdown",
   "metadata": {
    "id": "cuLp8HOpvvHU"
   },
   "source": [
    "Среднее квадратичное отклонение это и есть <img src=\"https://latex.codecogs.com/svg.image?\\sigma\" title=\"\\sigma\" />:   \n",
    "<img src=\"https://latex.codecogs.com/svg.image?std(X)&space;=&space;\\sigma&space;=&space;4\" title=\"std(X) = \\sigma = 4\" /> "
   ]
  },
  {
   "cell_type": "markdown",
   "metadata": {
    "id": "eiL2vuYAwDFM"
   },
   "source": [
    "#### Задание 4.  \n",
    "*Рост взрослого населения города X имеет нормальное распределение.\n",
    "Причем, средний рост равен 174 см, а среднее  \n",
    "квадратичное отклонение равно 8 см.  \n",
    "Какова вероятность того, что случайным образом выбранный взрослый человек  \n",
    "имеет рост:  \n",
    "а) больше 182 см  \n",
    "б) больше 190 см  \n",
    "в) от 166 см до 190 см  \n",
    "г) от 166 см до 182 см  \n",
    "д) от 158 см до 190 см  \n",
    "е) не выше 150 см или не ниже 190 см  \n",
    "ё) не выше 150 см или не ниже 198 см  \n",
    "ж) ниже 166 см*"
   ]
  },
  {
   "cell_type": "markdown",
   "metadata": {
    "id": "79tWqyUTwTFc"
   },
   "source": [
    "Нам дано:  \n",
    "<img src=\"https://latex.codecogs.com/svg.image?\\mu&space;=&space;174\" title=\"\\mu = 174\" /> см     \n",
    "<img src=\"https://latex.codecogs.com/svg.image?\\sigma&space;=&space;8\" title=\"\\sigma = 8\" /> см"
   ]
  },
  {
   "cell_type": "markdown",
   "metadata": {
    "id": "qMkMN19kzdKK"
   },
   "source": [
    "Для удобства вставим рисунок с плотностями нормального распределения  \n",
    "на различных промежутках.  \n",
    "При решении задачи будем округлять до десятых процента, как на рисунке  \n",
    "в презентации к уроку."
   ]
  },
  {
   "cell_type": "markdown",
   "metadata": {
    "id": "fEUDYnTExhMf"
   },
   "source": [
    "<img src=\"https://miro.medium.com/max/1400/1*IZ2II2HYKeoMrdLU5jW6Dw.png\" alt=\"normal distribution\" width=\"600\"/>\n"
   ]
  },
  {
   "cell_type": "markdown",
   "metadata": {
    "id": "eB814GP001oe"
   },
   "source": [
    "Тогда:  \n",
    "Красный промежуток имеет плотность распределения 68.3%  \n",
    "Синий промежуток - (95,4 - 68,3) / 2 = 13,6%  \n",
    "Зеленый промежуток - (99,7 - 95,4) / 2 = 2,2%"
   ]
  },
  {
   "cell_type": "markdown",
   "metadata": {
    "id": "6-4yrxViy00J"
   },
   "source": [
    "Выразим значения промежутков в задаче через <img src=\"https://latex.codecogs.com/svg.image?\\mu\" title=\"\\mu\" /> и <img src=\"https://latex.codecogs.com/svg.image?\\sigma\" title=\"\\sigma\" />:  \n",
    "182 см - это <img src=\"https://latex.codecogs.com/svg.image?\\mu&space;&plus;&space;\\sigma\" title=\"\\mu + \\sigma\" />  \n",
    "190 см - это <img src=\"https://latex.codecogs.com/svg.image?\\mu&space;&plus;&space;2\\sigma\" title=\"\\mu + 2\\sigma\" />  \n",
    "166 см - это <img src=\"https://latex.codecogs.com/svg.image?\\mu&space;-&space;\\sigma\" title=\"\\mu - \\sigma\" />  \n",
    "158 см - это <img src=\"https://latex.codecogs.com/svg.image?\\mu&space;-&space;2\\sigma\" title=\"\\mu - 2\\sigma\" />  \n",
    "150 см - это <img src=\"https://latex.codecogs.com/svg.image?\\mu&space;-&space;3\\sigma\" title=\"\\mu - 3\\sigma\" />  \n",
    "198 см - это <img src=\"https://latex.codecogs.com/svg.image?\\mu&space;&plus;&space;3\\sigma\" title=\"\\mu + 3\\sigma\" />  "
   ]
  },
  {
   "cell_type": "markdown",
   "metadata": {
    "id": "ft7INiTS0kuU"
   },
   "source": [
    "a) больше 182 см - это больше, чем <img src=\"https://latex.codecogs.com/svg.image?\\mu&space;&plus;&space;\\sigma\" title=\"\\mu + \\sigma\" /> - синий и зелёный промежутки:  \n",
    "13,6 + 2,2 = <u>15,8%</u>"
   ]
  },
  {
   "cell_type": "markdown",
   "metadata": {
    "id": "rEffUU_F2Z9E"
   },
   "source": [
    "б) больше 190 см - это больше, чем <img src=\"https://latex.codecogs.com/svg.image?\\mu&space;&plus;&space;2\\sigma\" title=\"\\mu + 2\\sigma\" /> - зелёный промежуток:  \n",
    "<u>2,2%</u>"
   ]
  },
  {
   "cell_type": "markdown",
   "metadata": {
    "id": "9BnegVo62prK"
   },
   "source": [
    "в) от 166 до 190 см - это промежуток от <img src=\"https://latex.codecogs.com/svg.image?\\mu&space;-&space;\\sigma\" title=\"\\mu - \\sigma\" /> до <img src=\"https://latex.codecogs.com/svg.image?\\mu&space;&plus;&space;2\\sigma\" title=\"\\mu + 2\\sigma\" />  \n",
    "\\- красный и один синий промежуток:  \n",
    "68,3 + 13,6 = <u>81,9%</u>"
   ]
  },
  {
   "cell_type": "markdown",
   "metadata": {
    "id": "_ngT9P6l3CLc"
   },
   "source": [
    "г) от 166 до 182 см - это промежуток от <img src=\"https://latex.codecogs.com/svg.image?\\mu&space;-&space;\\sigma\" title=\"\\mu - \\sigma\" /> до <img src=\"https://latex.codecogs.com/svg.image?\\mu&space;&plus;&space;\\sigma\" title=\"\\mu + \\sigma\" />  \n",
    "\\- красный промежуток: <u>68,3%</u>"
   ]
  },
  {
   "cell_type": "markdown",
   "metadata": {
    "id": "PB-pheNh3XIq"
   },
   "source": [
    "д) от 158 до 190 см - это промежуток от <img src=\"https://latex.codecogs.com/svg.image?\\mu&space;-&space;2\\sigma\" title=\"\\mu - 2\\sigma\" /> до <img src=\"https://latex.codecogs.com/svg.image?\\mu&space;&plus;&space;2\\sigma\" title=\"\\mu + 2\\sigma\" />\n",
    "\\- красный и два синих промежутка:  \n",
    "68,3 + 2 * 13,6 = <u>95,4%</u>"
   ]
  },
  {
   "cell_type": "markdown",
   "metadata": {
    "id": "Vy3et5-Q3rIw"
   },
   "source": [
    "е) не выше 150 или не ниже 190 см - это промежуток до <img src=\"https://latex.codecogs.com/svg.image?\\mu&space;-&space;3\\sigma\" title=\"\\mu - 3\\sigma\" />  \n",
    "и от <img src=\"https://latex.codecogs.com/svg.image?\\mu&space;&plus;&space;2\\sigma\" title=\"\\mu + 2\\sigma\" />  \n",
    "Нужно из 100% вычесть все промежутки, кроме одного зелёного:  \n",
    "100 - 95,4 - 2,2 = <u>2,4%</u>"
   ]
  },
  {
   "cell_type": "markdown",
   "metadata": {
    "id": "9JZCyHtS4pf3"
   },
   "source": [
    "ё) не выше 150 или не ниже 198 см - это промежуток до <img src=\"https://latex.codecogs.com/svg.image?\\mu&space;-&space;3\\sigma\" title=\"\\mu - 3\\sigma\" />  \n",
    "и от <img src=\"https://latex.codecogs.com/svg.image?\\mu&space;&plus;&space;3\\sigma\" title=\"\\mu + 3\\sigma\" />  \n",
    "Нужно из 100% вычесть все промежутки:  \n",
    "100 - 99,7 = <u>0,3%</u>"
   ]
  },
  {
   "cell_type": "markdown",
   "metadata": {
    "id": "DzwncTLe40kU"
   },
   "source": [
    "ж) ниже 166 см - это меньше, чем <img src=\"https://latex.codecogs.com/svg.image?\\mu&space;-&space;\\sigma\" title=\"\\mu - \\sigma\" /> - синий и зелёный промежутки:  \n",
    "13,6 + 2,2 = <u>15,8%</u>"
   ]
  },
  {
   "cell_type": "markdown",
   "metadata": {
    "id": "Jtb-pU715vcH"
   },
   "source": [
    "#### Задание 5.\n",
    "*На сколько сигм (средних квадратичных отклонений) отклоняется  \n",
    "рост человека, равный 190 см, от математического ожидания роста  \n",
    "в популяции, в которой M(X) = 178 см и D(X) = 25 кв.см?*"
   ]
  },
  {
   "cell_type": "markdown",
   "metadata": {
    "id": "vL9p3fVH5-u5"
   },
   "source": [
    "Среднее квадратичное отклонение равно корню из дисперсии:"
   ]
  },
  {
   "cell_type": "code",
   "execution_count": 7,
   "metadata": {
    "colab": {
     "base_uri": "https://localhost:8080/"
    },
    "id": "VEw7l2Ryr86Z",
    "outputId": "ba41e322-2291-4408-f6e4-f5a220ca87b1"
   },
   "outputs": [
    {
     "data": {
      "text/plain": [
       "5.0"
      ]
     },
     "execution_count": 7,
     "metadata": {},
     "output_type": "execute_result"
    }
   ],
   "source": [
    "sigma = 25**0.5\n",
    "sigma"
   ]
  },
  {
   "cell_type": "markdown",
   "metadata": {
    "id": "gLcnW1rV6Nz5"
   },
   "source": [
    "Значит рост человека будет отклоняться на:"
   ]
  },
  {
   "cell_type": "code",
   "execution_count": 8,
   "metadata": {
    "colab": {
     "base_uri": "https://localhost:8080/"
    },
    "id": "XBMIauRA6Igx",
    "outputId": "287b9909-8539-4db2-a545-fa2bed2715ea"
   },
   "outputs": [
    {
     "data": {
      "text/plain": [
       "2.4"
      ]
     },
     "execution_count": 8,
     "metadata": {},
     "output_type": "execute_result"
    }
   ],
   "source": [
    "abs(190 - 178) / sigma"
   ]
  },
  {
   "cell_type": "markdown",
   "metadata": {
    "id": "SKMWrU406gkC"
   },
   "source": [
    "<u>2.4 сигмы</u>"
   ]
  }
 ],
 "metadata": {
  "colab": {
   "collapsed_sections": [],
   "name": "Lesson_4_tasks.ipynb",
   "provenance": []
  },
  "kernelspec": {
   "display_name": "Python 3 (ipykernel)",
   "language": "python",
   "name": "python3"
  },
  "language_info": {
   "codemirror_mode": {
    "name": "ipython",
    "version": 3
   },
   "file_extension": ".py",
   "mimetype": "text/x-python",
   "name": "python",
   "nbconvert_exporter": "python",
   "pygments_lexer": "ipython3",
   "version": "3.9.7"
  }
 },
 "nbformat": 4,
 "nbformat_minor": 4
}
