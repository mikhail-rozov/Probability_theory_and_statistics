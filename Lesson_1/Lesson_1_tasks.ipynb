{
 "cells": [
  {
   "cell_type": "markdown",
   "metadata": {
    "id": "VsU08_Pmpf1P"
   },
   "source": [
    "### **Практическое задание по теме \"Вступление. Случайные события. Вероятные события. Условная вероятность. Случайные события. Формула Байеса\".**"
   ]
  },
  {
   "cell_type": "markdown",
   "metadata": {
    "id": "nNPOeJ4doUtY"
   },
   "source": [
    "#### **Задача 1**\n",
    "\n",
    "*Имеется колода в 52 карты. Найти число возможностей вытянуть из неё 4 карты так, чтобы среди них был хотя бы один туз.*"
   ]
  },
  {
   "cell_type": "markdown",
   "metadata": {
    "id": "6_Zvj_9Spj8t"
   },
   "source": [
    "Сначала найдём число возможностей, что среди 4 карт окажется ровно 1 туз, затем ровно 2 туза, затем ровно 3 и ровно 4. Потом сложим эти возможности."
   ]
  },
  {
   "cell_type": "code",
   "execution_count": null,
   "metadata": {
    "id": "VsHMFgQ8qE10"
   },
   "outputs": [],
   "source": [
    "import math"
   ]
  },
  {
   "cell_type": "code",
   "execution_count": null,
   "metadata": {
    "id": "YTDrkHMup3cT"
   },
   "outputs": [],
   "source": [
    "def combinations(n, k):\n",
    "    return math.factorial(n) / (math.factorial(k) * math.factorial(n - k))"
   ]
  },
  {
   "cell_type": "markdown",
   "metadata": {
    "id": "yiK3PrzybV56"
   },
   "source": [
    "Мысленно разобьем колоду на 2: в одной только 4 туза, в другой - остальные 48 карт."
   ]
  },
  {
   "cell_type": "markdown",
   "metadata": {
    "id": "nOvwK7cQbqHI"
   },
   "source": [
    "Тогда число сочетаний, что среди 4 карт окажется ровно 1 туз:"
   ]
  },
  {
   "cell_type": "code",
   "execution_count": null,
   "metadata": {
    "colab": {
     "base_uri": "https://localhost:8080/"
    },
    "id": "qh90obLQquRp",
    "outputId": "e0a8377e-ba3e-4d86-86b2-95b8437fb91e"
   },
   "outputs": [
    {
     "data": {
      "text/plain": [
       "69184.0"
      ]
     },
     "execution_count": 3,
     "metadata": {},
     "output_type": "execute_result"
    }
   ],
   "source": [
    "ace_1 = combinations(4, 1) * combinations(48, 3)\n",
    "ace_1"
   ]
  },
  {
   "cell_type": "markdown",
   "metadata": {
    "id": "LP-O7ZVHcUi4"
   },
   "source": [
    "Здесь мы перемножаем, т.к. на каждый вытянутый туз, мы вытягиваем 3 карты из второй стопки."
   ]
  },
  {
   "cell_type": "markdown",
   "metadata": {
    "id": "AVyenenXdBMf"
   },
   "source": [
    "Число сочетаний, что среди 4 карт окажется ровно 2 туза:"
   ]
  },
  {
   "cell_type": "code",
   "execution_count": null,
   "metadata": {
    "colab": {
     "base_uri": "https://localhost:8080/"
    },
    "id": "oVGV0wAzdE4i",
    "outputId": "8efb3db6-8064-4563-9dbd-7f243dca4eb9"
   },
   "outputs": [
    {
     "data": {
      "text/plain": [
       "6768.0"
      ]
     },
     "execution_count": 4,
     "metadata": {},
     "output_type": "execute_result"
    }
   ],
   "source": [
    "ace_2 = combinations(4, 2) * combinations(48, 2)\n",
    "ace_2"
   ]
  },
  {
   "cell_type": "markdown",
   "metadata": {
    "id": "Q-EXhQZRdYXH"
   },
   "source": [
    "Ровно 3 туза:"
   ]
  },
  {
   "cell_type": "code",
   "execution_count": null,
   "metadata": {
    "colab": {
     "base_uri": "https://localhost:8080/"
    },
    "id": "t_q2McrEdKaF",
    "outputId": "d9e3a709-617b-4de8-e83f-006a9301079d"
   },
   "outputs": [
    {
     "data": {
      "text/plain": [
       "192.0"
      ]
     },
     "execution_count": 5,
     "metadata": {},
     "output_type": "execute_result"
    }
   ],
   "source": [
    "ace_3 = combinations(4, 3) * combinations(48, 1)\n",
    "ace_3"
   ]
  },
  {
   "cell_type": "markdown",
   "metadata": {
    "id": "gXCcdfQrdeyM"
   },
   "source": [
    "Ровно 4 туза:"
   ]
  },
  {
   "cell_type": "code",
   "execution_count": null,
   "metadata": {
    "colab": {
     "base_uri": "https://localhost:8080/"
    },
    "id": "39xX9YCfdd_s",
    "outputId": "953c7f3a-1512-4de5-da08-1950bb52df1f"
   },
   "outputs": [
    {
     "data": {
      "text/plain": [
       "1.0"
      ]
     },
     "execution_count": 6,
     "metadata": {},
     "output_type": "execute_result"
    }
   ],
   "source": [
    "ace_4 = combinations(4, 4) * combinations(48, 0)\n",
    "ace_4"
   ]
  },
  {
   "cell_type": "markdown",
   "metadata": {
    "id": "okegQ4d-d0rA"
   },
   "source": [
    "Теперь сложим сочетания:"
   ]
  },
  {
   "cell_type": "code",
   "execution_count": null,
   "metadata": {
    "colab": {
     "base_uri": "https://localhost:8080/"
    },
    "id": "LoGcvWNEdk4j",
    "outputId": "461f1f17-7d25-43be-bcdd-184d3098e1af"
   },
   "outputs": [
    {
     "data": {
      "text/plain": [
       "76145.0"
      ]
     },
     "execution_count": 7,
     "metadata": {},
     "output_type": "execute_result"
    }
   ],
   "source": [
    "answer_1 = ace_1 + ace_2 + ace_3 + ace_4\n",
    "answer_1"
   ]
  },
  {
   "cell_type": "markdown",
   "metadata": {
    "id": "8MJ_SAGTeGl-"
   },
   "source": [
    "#### **Задача 2**\n",
    "*Из 60 вопросов, входящих в экзаменационные билеты, студент знает 50. Случайным образом студент вытягивает 3 вопроса. Какова вероятность, что все выбранные вопросы знакомы студенту?*"
   ]
  },
  {
   "cell_type": "markdown",
   "metadata": {
    "id": "SnUexQbueZ8O"
   },
   "source": [
    "Здесь должны одновременно произойти 3 <u>независимых</u> события:  \n",
    "1) Студент с вероятностью 50/60 вытягивает вопрос, который знает.  \n",
    "2) Студент с вероятностью 49/59 вытягивает вопрос, который знает.  \n",
    "3) Студент с вероятностью 48/58 вытягивает вопрос, который знает."
   ]
  },
  {
   "cell_type": "markdown",
   "metadata": {
    "id": "Ey5ZSrwRe7-P"
   },
   "source": [
    "Таким образом, для решения нужно перемножить эти вероятности, т.к. нужно <u>одновременное</u> выполнение этих событий:"
   ]
  },
  {
   "cell_type": "code",
   "execution_count": null,
   "metadata": {
    "colab": {
     "base_uri": "https://localhost:8080/"
    },
    "id": "fR-x2zX9d88b",
    "outputId": "aac0ed9c-662f-42b0-a527-088fe28d7387"
   },
   "outputs": [
    {
     "data": {
      "text/plain": [
       "0.5727644652250147"
      ]
     },
     "execution_count": 8,
     "metadata": {},
     "output_type": "execute_result"
    }
   ],
   "source": [
    "answer_2 = 50/60 * 49/59 * 48/58\n",
    "answer_2"
   ]
  },
  {
   "cell_type": "markdown",
   "metadata": {
    "id": "XX-Ejs96fYtX"
   },
   "source": [
    "#### **Задача 3**\n",
    "*При условии задачи выше, какова вероятность что два из трёх вопросов знакомы студенту?*"
   ]
  },
  {
   "cell_type": "markdown",
   "metadata": {
    "id": "EN5zDmfJfleh"
   },
   "source": [
    "Условию задачи удовлетворяют 3 независимых исхода:  \n",
    "1) Студент вытянул незнакомый вопрос первым по счёту.  \n",
    "2) Студент вытянул незнакомый вопрос вторым по счёту.  \n",
    "3) Студент вытянул незнакомый вопрос третьим по счёту."
   ]
  },
  {
   "cell_type": "markdown",
   "metadata": {
    "id": "yyMMpK-xgCsv"
   },
   "source": [
    "Соответственно, вероятность этих исходов, по аналогии с примером выше, будет равна:"
   ]
  },
  {
   "cell_type": "code",
   "execution_count": null,
   "metadata": {
    "colab": {
     "base_uri": "https://localhost:8080/"
    },
    "id": "Y7GarC0WfUET",
    "outputId": "d0195c14-c455-4d47-aba8-d49b1da29c66"
   },
   "outputs": [
    {
     "data": {
      "text/plain": [
       "0.11932593025521135"
      ]
     },
     "execution_count": 9,
     "metadata": {},
     "output_type": "execute_result"
    }
   ],
   "source": [
    "p_1 = 10/60 * 50/59 * 49/58\n",
    "p_1"
   ]
  },
  {
   "cell_type": "code",
   "execution_count": null,
   "metadata": {
    "colab": {
     "base_uri": "https://localhost:8080/"
    },
    "id": "TRDSy1qGgZDU",
    "outputId": "d8ec1d0c-8301-4bc6-d7eb-70fd6af12a3f"
   },
   "outputs": [
    {
     "data": {
      "text/plain": [
       "0.11932593025521139"
      ]
     },
     "execution_count": 10,
     "metadata": {},
     "output_type": "execute_result"
    }
   ],
   "source": [
    "p_2 = 50/60 * 10/59 * 49/58\n",
    "p_2"
   ]
  },
  {
   "cell_type": "code",
   "execution_count": null,
   "metadata": {
    "colab": {
     "base_uri": "https://localhost:8080/"
    },
    "id": "w2KjiVFogduD",
    "outputId": "31f767e7-19b6-484f-fd0d-b347092de4d2"
   },
   "outputs": [
    {
     "data": {
      "text/plain": [
       "0.11932593025521138"
      ]
     },
     "execution_count": 11,
     "metadata": {},
     "output_type": "execute_result"
    }
   ],
   "source": [
    "p_3 = 50/60 * 49/59 * 10/58\n",
    "p_3"
   ]
  },
  {
   "cell_type": "markdown",
   "metadata": {
    "id": "TUbTrQBZgnoz"
   },
   "source": [
    "Т.к. все эти итоги удовлетворяют условию задачи, они независимы и нас устроит любой один из них, то нужно сложить эти вероятности:"
   ]
  },
  {
   "cell_type": "code",
   "execution_count": null,
   "metadata": {
    "colab": {
     "base_uri": "https://localhost:8080/"
    },
    "id": "Me9AmTmLgimK",
    "outputId": "72d6bf08-6a06-4b2e-d6fd-a09fa1bf39ae"
   },
   "outputs": [
    {
     "data": {
      "text/plain": [
       "0.35797779076563413"
      ]
     },
     "execution_count": 12,
     "metadata": {},
     "output_type": "execute_result"
    }
   ],
   "source": [
    "answer_3 = p_1 + p_2 + p_3\n",
    "answer_3"
   ]
  },
  {
   "cell_type": "markdown",
   "metadata": {
    "id": "2J6iNuv-hEWO"
   },
   "source": [
    "#### **Задача 4**\n",
    "\n",
    "*Допустим, имеется некоторая очень редкая болезнь (поражает 0.1% населения). Вы приходите к врачу, вам делают тест на эту болезнь, и тест оказывается положительным. Врач говорит вам, что этот тест верно выявляет 99% больных этой болезнью и всего лишь в 1% случаев даёт ложный положительный ответ.*\n",
    "\n",
    "*Вопрос: какова вероятность, что вы действительно больны ей?*"
   ]
  },
  {
   "cell_type": "markdown",
   "metadata": {
    "id": "HDCeklP8hO6y"
   },
   "source": [
    "Обозначим события:  \n",
    "<img src=\"https://latex.codecogs.com/svg.image?A\" title=\"A\" /> - мы больны редкой болезнью.  \n",
    "<img src=\"https://latex.codecogs.com/svg.image?H_1\" title=\"H_1\" /> - тест положителен.  \n",
    "<img src=\"https://latex.codecogs.com/svg.image?H_2\" title=\"H_2\" /> - тест отрицателен.\n"
   ]
  },
  {
   "cell_type": "markdown",
   "metadata": {
    "id": "fWuQ73B-iYuk"
   },
   "source": [
    "При таком обозначении, нам нужно найти <img src=\"https://latex.codecogs.com/svg.image?P(A|H_1)\" title=\"P(A|H_1)\" />, т.е. вероятность того, что мы больны при условии положительного теста."
   ]
  },
  {
   "cell_type": "markdown",
   "metadata": {
    "id": "JAQ110GFit71"
   },
   "source": [
    "Тогда, по формуле Байеса:  \n",
    "<img src=\"https://latex.codecogs.com/svg.image?P(A|H_1)&space;=&space;\\dfrac{P(H_1|A)&space;\\cdot&space;P(A)}{P(H_1)}\" title=\"P(A|H_1) = \\dfrac{P(H_1|A) \\cdot P(A)}{P(H_1)}\" />"
   ]
  },
  {
   "cell_type": "markdown",
   "metadata": {
    "id": "3UptZ6Xqje8Z"
   },
   "source": [
    "Здесь нам неизвестен только знаменатель. Найдём его по формуле полной вероятности:  \n",
    "<img src=\"https://latex.codecogs.com/svg.image?P(H_1)&space;=&space;P(H_1|A)&space;\\cdot&space;P(A)&space;&plus;&space;P(H_1|&space;\\overline{A})&space;\\cdot&space;P(\\overline{A})\" title=\"P(H_1) = P(H_1|A) \\cdot P(A) + P(H_1| \\overline{A}) \\cdot P(\\overline{A})\" />"
   ]
  },
  {
   "cell_type": "markdown",
   "metadata": {
    "id": "lLHZwrQdkfHZ"
   },
   "source": [
    "<img src=\"https://latex.codecogs.com/svg.image?P(H_1|A)&space;=&space;99\\%&space;=&space;0.99\" title=\"P(H_1|A) = 99\\% = 0.99\" />, т.к у заболевших только 99% положительных тестов.  \n",
    "<img src=\"https://latex.codecogs.com/svg.image?P(A)&space;=&space;0.1\\%&space;=&space;0.001\" title=\"P(A) = 0.1\\% = 0.001\" />, т.к. всего заболевает 0,1% населения.  \n",
    "<img src=\"https://latex.codecogs.com/svg.image?P(H_1|\\overline{A})&space;=&space;1\\%&space;=&space;0.01\" title=\"P(H_1|\\overline{A}) = 1\\% = 0.01\" />, т.к в 1% случаев тест даёт ложный положительный ответ.  \n",
    "<img src=\"https://latex.codecogs.com/svg.image?P(\\overline{A})&space;=&space;1&space;-&space;P(A)&space;=&space;0.999\" title=\"P(\\overline{A}) = 1 - P(A) = 0.999\" />.  "
   ]
  },
  {
   "cell_type": "markdown",
   "metadata": {
    "id": "S_bhcHj4notH"
   },
   "source": [
    "Тогда $P(H_1)$:"
   ]
  },
  {
   "cell_type": "code",
   "execution_count": null,
   "metadata": {
    "colab": {
     "base_uri": "https://localhost:8080/"
    },
    "id": "qdSOmmctg8cr",
    "outputId": "92c74a0f-60e1-4fc9-8ad1-ecaf3ae4df46"
   },
   "outputs": [
    {
     "data": {
      "text/plain": [
       "0.01098"
      ]
     },
     "execution_count": 13,
     "metadata": {},
     "output_type": "execute_result"
    }
   ],
   "source": [
    "P_H1 = 0.99 * 0.001 + 0.01 * 0.999\n",
    "P_H1"
   ]
  },
  {
   "cell_type": "markdown",
   "metadata": {
    "id": "AqqN9acLoT2e"
   },
   "source": [
    "Теперь найдём <img src=\"https://latex.codecogs.com/svg.image?P(A|H_1)\" title=\"P(A|H_1)\" />:"
   ]
  },
  {
   "cell_type": "code",
   "execution_count": null,
   "metadata": {
    "colab": {
     "base_uri": "https://localhost:8080/"
    },
    "id": "Jb45urynoLmi",
    "outputId": "73500607-6a5e-4281-f363-59ded4d2e402"
   },
   "outputs": [
    {
     "data": {
      "text/plain": [
       "0.09016393442622951"
      ]
     },
     "execution_count": 14,
     "metadata": {},
     "output_type": "execute_result"
    }
   ],
   "source": [
    "answer_4 = 0.99 * 0.001 / P_H1\n",
    "answer_4"
   ]
  },
  {
   "cell_type": "code",
   "execution_count": null,
   "metadata": {
    "id": "o_LLpmH0orCC"
   },
   "outputs": [],
   "source": []
  }
 ],
 "metadata": {
  "colab": {
   "collapsed_sections": [],
   "name": "Lesson_1_tasks.ipynb",
   "provenance": []
  },
  "kernelspec": {
   "display_name": "Python 3 (ipykernel)",
   "language": "python",
   "name": "python3"
  },
  "language_info": {
   "codemirror_mode": {
    "name": "ipython",
    "version": 3
   },
   "file_extension": ".py",
   "mimetype": "text/x-python",
   "name": "python",
   "nbconvert_exporter": "python",
   "pygments_lexer": "ipython3",
   "version": "3.9.7"
  }
 },
 "nbformat": 4,
 "nbformat_minor": 4
}
