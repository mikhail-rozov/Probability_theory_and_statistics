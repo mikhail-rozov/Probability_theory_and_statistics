{
 "cells": [
  {
   "cell_type": "markdown",
   "metadata": {
    "id": "BqGlGVlzIMx9"
   },
   "source": [
    "### Практическое задание к уроку № 6 по теме \"Взаимосвязь величин. Показатели корреляции. Корреляционный анализ. Проверка на нормальность\"."
   ]
  },
  {
   "cell_type": "markdown",
   "metadata": {
    "id": "81WBg6XPIYtV"
   },
   "source": [
    "#### Задание 1.  \n",
    "*Даны значения величины заработной платы заемщиков банка (zp)  \n",
    "и значения их поведенческого кредитного скоринга (ks):  \n",
    "zp = [35, 45, 190, 200, 40, 70, 54, 150, 120, 110],  \n",
    "ks = [401, 574, 874, 919, 459, 739, 653, 902, 746, 832].  \n",
    "Найдите ковариацию этих двух величин с помощью элементарных действий,  \n",
    "а затем с помощью функции cov из numpy.  \n",
    "Полученные значения должны быть равны.  \n",
    "Найдите коэффициент корреляции Пирсона с помощью ковариации  \n",
    "и среднеквадратичных отклонений двух признаков,  \n",
    "а затем с использованием функций из библиотек numpy и pandas.*\n"
   ]
  },
  {
   "cell_type": "code",
   "execution_count": 1,
   "metadata": {
    "executionInfo": {
     "elapsed": 247,
     "status": "ok",
     "timestamp": 1639495213547,
     "user": {
      "displayName": "Михаил Розов",
      "photoUrl": "https://lh3.googleusercontent.com/a/default-user=s64",
      "userId": "00462108907836186981"
     },
     "user_tz": -180
    },
    "id": "CaNIeGsgKpY0"
   },
   "outputs": [],
   "source": [
    "import numpy as np"
   ]
  },
  {
   "cell_type": "code",
   "execution_count": 2,
   "metadata": {
    "executionInfo": {
     "elapsed": 2,
     "status": "ok",
     "timestamp": 1639495213789,
     "user": {
      "displayName": "Михаил Розов",
      "photoUrl": "https://lh3.googleusercontent.com/a/default-user=s64",
      "userId": "00462108907836186981"
     },
     "user_tz": -180
    },
    "id": "ubGc2epUKxnK"
   },
   "outputs": [],
   "source": [
    "zp = np.array([35, 45, 190, 200, 40, 70, 54, 150, 120, 110])\n",
    "ks = np.array([401, 574, 874, 919, 459, 739, 653, 902, 746, 832])\n",
    "n = zp.shape[0]"
   ]
  },
  {
   "cell_type": "markdown",
   "metadata": {
    "id": "0UnURxOcJvqw"
   },
   "source": [
    "Оценку ковариации двух величин будем считать по формуле:  \n",
    "<br>\n",
    "<img src=\"https://latex.codecogs.com/svg.image?\\inline&space;\\sigma_{xy}&space;=&space;\\dfrac{1}{n-1}&space;\\sum_{i=1}^n&space;(x_i&space;-&space;\\overline{X})&space;\\cdot&space;(y_i&space;-&space;\\overline{Y})\" title=\"\\inline \\sigma_{xy} = \\dfrac{1}{n-1} \\sum_{i=1}^n (x_i - \\overline{X}) \\cdot (y_i - \\overline{Y})\" />"
   ]
  },
  {
   "cell_type": "markdown",
   "metadata": {
    "id": "snGtHmv6KF5i"
   },
   "source": [
    "Найдём средние выборочные двух выборок (<img src=\"https://latex.codecogs.com/svg.image?\\inline&space;\\overline{X}\" title=\"\\inline \\overline{X}\" /> и <img src=\"https://latex.codecogs.com/svg.image?\\inline&space;\\overline{Y}\" title=\"\\inline \\overline{Y}\" />):"
   ]
  },
  {
   "cell_type": "code",
   "execution_count": 3,
   "metadata": {
    "colab": {
     "base_uri": "https://localhost:8080/"
    },
    "executionInfo": {
     "elapsed": 2,
     "status": "ok",
     "timestamp": 1639495213789,
     "user": {
      "displayName": "Михаил Розов",
      "photoUrl": "https://lh3.googleusercontent.com/a/default-user=s64",
      "userId": "00462108907836186981"
     },
     "user_tz": -180
    },
    "id": "ZWi7fsGYIJ9j",
    "outputId": "b80a6e24-84cf-4ef6-cc5b-b58e64e3c56e"
   },
   "outputs": [
    {
     "data": {
      "text/plain": [
       "(101.4, 709.9)"
      ]
     },
     "execution_count": 3,
     "metadata": {},
     "output_type": "execute_result"
    }
   ],
   "source": [
    "zp_mean = zp.sum() / n\n",
    "ks_mean = ks.sum() / n\n",
    "zp_mean, ks_mean"
   ]
  },
  {
   "cell_type": "markdown",
   "metadata": {
    "id": "5AC1hyAENMdd"
   },
   "source": [
    "Найдём несмещённую оценку ковариации $\\sigma_{xy}$:"
   ]
  },
  {
   "cell_type": "code",
   "execution_count": 4,
   "metadata": {
    "colab": {
     "base_uri": "https://localhost:8080/"
    },
    "executionInfo": {
     "elapsed": 388,
     "status": "ok",
     "timestamp": 1639495214175,
     "user": {
      "displayName": "Михаил Розов",
      "photoUrl": "https://lh3.googleusercontent.com/a/default-user=s64",
      "userId": "00462108907836186981"
     },
     "user_tz": -180
    },
    "id": "lpXBXo9GMOCe",
    "outputId": "c66bc426-bd5a-4ef0-9c99-d21da5fdb19c"
   },
   "outputs": [
    {
     "data": {
      "text/plain": [
       "10175.37777777778"
      ]
     },
     "execution_count": 4,
     "metadata": {},
     "output_type": "execute_result"
    }
   ],
   "source": [
    "cov = ((zp - zp_mean) * (ks - ks_mean)).sum() / (n - 1)\n",
    "cov"
   ]
  },
  {
   "cell_type": "markdown",
   "metadata": {
    "id": "GoPo_CpMNX6R"
   },
   "source": [
    "Проверим правильность расчёта через встроенную функцию cov:"
   ]
  },
  {
   "cell_type": "code",
   "execution_count": 5,
   "metadata": {
    "colab": {
     "base_uri": "https://localhost:8080/"
    },
    "executionInfo": {
     "elapsed": 7,
     "status": "ok",
     "timestamp": 1639495214175,
     "user": {
      "displayName": "Михаил Розов",
      "photoUrl": "https://lh3.googleusercontent.com/a/default-user=s64",
      "userId": "00462108907836186981"
     },
     "user_tz": -180
    },
    "id": "_pKhCMoyMlSo",
    "outputId": "4da34f3d-5032-4942-b512-64a08327740e"
   },
   "outputs": [
    {
     "data": {
      "text/plain": [
       "10175.377777777776"
      ]
     },
     "execution_count": 5,
     "metadata": {},
     "output_type": "execute_result"
    }
   ],
   "source": [
    "np.cov(zp, ks, ddof=1)[0][1]"
   ]
  },
  {
   "cell_type": "markdown",
   "metadata": {
    "id": "EkjEOZ7RNjNz"
   },
   "source": [
    "Следовательно, расчёт выполнен верно."
   ]
  },
  {
   "cell_type": "markdown",
   "metadata": {
    "id": "QoudBfgUOi-W"
   },
   "source": [
    "Коэффициент корреляции Пирсона будем искать по формуле:  \n",
    "<br>\n",
    "<img src=\"https://latex.codecogs.com/svg.image?\\inline&space;r_{XY}&space;=&space;\\dfrac{\\sigma_{XY}}{\\sigma_X&space;\\cdot&space;\\sigma_Y}\" title=\"\\inline r_{XY} = \\dfrac{\\sigma_{XY}}{\\sigma_X \\cdot \\sigma_Y}\" />"
   ]
  },
  {
   "cell_type": "markdown",
   "metadata": {
    "id": "BXLp-vwAO81c"
   },
   "source": [
    "Найдём несмещённые оценки средних квадратических отклонений выборок (<img src=\"https://latex.codecogs.com/svg.image?\\inline&space;\\sigma_X\" title=\"\\inline \\sigma_X\" /> и <img src=\"https://latex.codecogs.com/svg.image?\\inline&space;\\sigma_Y\" title=\"\\inline \\sigma_Y\" />):"
   ]
  },
  {
   "cell_type": "code",
   "execution_count": 6,
   "metadata": {
    "colab": {
     "base_uri": "https://localhost:8080/"
    },
    "executionInfo": {
     "elapsed": 7,
     "status": "ok",
     "timestamp": 1639495214176,
     "user": {
      "displayName": "Михаил Розов",
      "photoUrl": "https://lh3.googleusercontent.com/a/default-user=s64",
      "userId": "00462108907836186981"
     },
     "user_tz": -180
    },
    "id": "sXRAJMG8MqTw",
    "outputId": "daf83b24-3195-4e14-88e0-ca12db500766"
   },
   "outputs": [
    {
     "data": {
      "text/plain": [
       "(62.31318747531162, 183.99544076477068)"
      ]
     },
     "execution_count": 6,
     "metadata": {},
     "output_type": "execute_result"
    }
   ],
   "source": [
    "std_zp = np.sqrt(((zp - zp_mean)**2).sum() / (n - 1))\n",
    "std_ks = np.sqrt(((ks - ks_mean)**2).sum() / (n - 1))\n",
    "std_zp, std_ks"
   ]
  },
  {
   "cell_type": "markdown",
   "metadata": {
    "id": "TzUXtUAKQI47"
   },
   "source": [
    "Тогда:"
   ]
  },
  {
   "cell_type": "code",
   "execution_count": 7,
   "metadata": {
    "colab": {
     "base_uri": "https://localhost:8080/"
    },
    "executionInfo": {
     "elapsed": 6,
     "status": "ok",
     "timestamp": 1639495214176,
     "user": {
      "displayName": "Михаил Розов",
      "photoUrl": "https://lh3.googleusercontent.com/a/default-user=s64",
      "userId": "00462108907836186981"
     },
     "user_tz": -180
    },
    "id": "9MQ7paPKQDSH",
    "outputId": "5b871a0a-3764-446b-d14a-bc12e9801ef8"
   },
   "outputs": [
    {
     "data": {
      "text/plain": [
       "0.8874900920739164"
      ]
     },
     "execution_count": 7,
     "metadata": {},
     "output_type": "execute_result"
    }
   ],
   "source": [
    "r_xy = cov / (std_zp * std_ks)\n",
    "r_xy"
   ]
  },
  {
   "cell_type": "markdown",
   "metadata": {
    "id": "06vWs4rnQcKU"
   },
   "source": [
    "Проверим правильность решения с помощью встроенной функции:"
   ]
  },
  {
   "cell_type": "code",
   "execution_count": 8,
   "metadata": {
    "colab": {
     "base_uri": "https://localhost:8080/"
    },
    "executionInfo": {
     "elapsed": 5,
     "status": "ok",
     "timestamp": 1639495214176,
     "user": {
      "displayName": "Михаил Розов",
      "photoUrl": "https://lh3.googleusercontent.com/a/default-user=s64",
      "userId": "00462108907836186981"
     },
     "user_tz": -180
    },
    "id": "OXBKMY04QU9w",
    "outputId": "09e405c9-bbbe-4060-c747-748ec6c5ea27"
   },
   "outputs": [
    {
     "data": {
      "text/plain": [
       "0.8874900920739162"
      ]
     },
     "execution_count": 8,
     "metadata": {},
     "output_type": "execute_result"
    }
   ],
   "source": [
    "np.corrcoef(zp, ks)[0][1]"
   ]
  },
  {
   "cell_type": "markdown",
   "metadata": {
    "id": "8cUU8Df1Q_wB"
   },
   "source": [
    "Следовательно, расчёт выполнен верно."
   ]
  },
  {
   "cell_type": "markdown",
   "metadata": {
    "id": "EWSljl3HRBvL"
   },
   "source": [
    "#### Задание 2.  \n",
    "*Измерены значения IQ выборки студентов,  \n",
    "обучающихся в местных технических вузах:  \n",
    "131, 125, 115, 122, 131, 115, 107, 99, 125, 111.  \n",
    "Известно, что в генеральной совокупности IQ распределен нормально.  \n",
    "Найдите доверительный интервал для математического ожидания с надежностью 0.95.*"
   ]
  },
  {
   "cell_type": "code",
   "execution_count": 9,
   "metadata": {
    "executionInfo": {
     "elapsed": 5,
     "status": "ok",
     "timestamp": 1639495214177,
     "user": {
      "displayName": "Михаил Розов",
      "photoUrl": "https://lh3.googleusercontent.com/a/default-user=s64",
      "userId": "00462108907836186981"
     },
     "user_tz": -180
    },
    "id": "QvL12NX0bpMc"
   },
   "outputs": [],
   "source": [
    "X = np.array([131, 125, 115, 122, 131, 115, 107, 99, 125, 111])\n",
    "p = 0.95"
   ]
  },
  {
   "cell_type": "markdown",
   "metadata": {
    "id": "DkzUxch5Zj0p"
   },
   "source": [
    "Так как нам неизвестна дисперсия генеральной совокупности, то воспользуемся  \n",
    "t-статистикой, имеющей распределение Стьюдента. Доверительный интервал  \n",
    "для математического ожидания будет иметь вид:  \n",
    "<br>\n",
    "<img src=\"https://latex.codecogs.com/svg.image?\\inline&space;P(\\overline{X}&space;&plus;&space;t_{\\alpha/2,&space;n-1}&space;\\cdot&space;\\dfrac{\\sigma_X}{\\sqrt{n}}&space;\\le&space;\\mu&space;\\le&space;\\overline{X}&space;&plus;&space;t_{1&space;-&space;\\alpha/2,&space;n-1}&space;\\cdot&space;\\dfrac{\\sigma_X}{\\sqrt{n}})&space;=&space;p\" title=\"\\inline P(\\overline{X} + t_{\\alpha/2, n-1} \\cdot \\dfrac{\\sigma_X}{\\sqrt{n}} \\le \\mu \\le \\overline{X} + t_{1 - \\alpha/2, n-1} \\cdot \\dfrac{\\sigma_X}{\\sqrt{n}}) = p\" />"
   ]
  },
  {
   "cell_type": "markdown",
   "metadata": {
    "id": "C4Is5cR1avAQ"
   },
   "source": [
    "Здесь <img src=\"https://latex.codecogs.com/svg.image?\\inline&space;\\alpha&space;=&space;1&space;-&space;p\" title=\"\\inline \\alpha = 1 - p\" />;  \n",
    "<img src=\"https://latex.codecogs.com/svg.image?\\inline&space;\\overline{X}\" title=\"\\inline \\overline{X}\" /> - выборочное среднее;  \n",
    "<img src=\"https://latex.codecogs.com/svg.image?\\inline&space;t_{\\alpha/2,&space;n-1}\" title=\"\\inline t_{\\alpha/2, n-1}\" />, <img src=\"https://latex.codecogs.com/svg.image?\\inline&space;t_{1&space;-&space;\\alpha/2,&space;n-1}\" title=\"\\inline t_{1 - \\alpha/2, n-1}\" /> - квантили для распределения Стьюдента с параметром df = n - 1;  \n",
    "<img src=\"https://latex.codecogs.com/svg.image?\\inline&space;\\sigma_X\" title=\"\\inline \\sigma_X\" /> - среднее квадратическое отклонение выборки;  \n",
    "n - размер выборки."
   ]
  },
  {
   "cell_type": "markdown",
   "metadata": {
    "id": "idfkxFYRbj92"
   },
   "source": [
    "Найдём все эти значения:"
   ]
  },
  {
   "cell_type": "code",
   "execution_count": 10,
   "metadata": {
    "executionInfo": {
     "elapsed": 5,
     "status": "ok",
     "timestamp": 1639495214177,
     "user": {
      "displayName": "Михаил Розов",
      "photoUrl": "https://lh3.googleusercontent.com/a/default-user=s64",
      "userId": "00462108907836186981"
     },
     "user_tz": -180
    },
    "id": "JmFAe7kAbzcs"
   },
   "outputs": [],
   "source": [
    "import scipy.stats as stats"
   ]
  },
  {
   "cell_type": "code",
   "execution_count": 11,
   "metadata": {
    "colab": {
     "base_uri": "https://localhost:8080/"
    },
    "executionInfo": {
     "elapsed": 4,
     "status": "ok",
     "timestamp": 1639495214177,
     "user": {
      "displayName": "Михаил Розов",
      "photoUrl": "https://lh3.googleusercontent.com/a/default-user=s64",
      "userId": "00462108907836186981"
     },
     "user_tz": -180
    },
    "id": "jatyOx7AQ1LH",
    "outputId": "9232f4d0-d3ce-49c3-ac92-7a1558c6949a"
   },
   "outputs": [
    {
     "data": {
      "text/plain": [
       "(0.050000000000000044, 118.1, 10.54566788359614, 10)"
      ]
     },
     "execution_count": 11,
     "metadata": {},
     "output_type": "execute_result"
    }
   ],
   "source": [
    "alpha = 1 - p\n",
    "X_mean = X.mean()\n",
    "std_X = X.std(ddof=1)\n",
    "n = X.shape[0]\n",
    "alpha, X_mean, std_X, n"
   ]
  },
  {
   "cell_type": "code",
   "execution_count": 12,
   "metadata": {
    "colab": {
     "base_uri": "https://localhost:8080/"
    },
    "executionInfo": {
     "elapsed": 385,
     "status": "ok",
     "timestamp": 1639495214559,
     "user": {
      "displayName": "Михаил Розов",
      "photoUrl": "https://lh3.googleusercontent.com/a/default-user=s64",
      "userId": "00462108907836186981"
     },
     "user_tz": -180
    },
    "id": "hUBOk5dFcIs0",
    "outputId": "0e484824-6bce-4f5e-f8e9-559ab3bd9e4c"
   },
   "outputs": [
    {
     "data": {
      "text/plain": [
       "(-2.2621571627409915, 2.2621571627409915)"
      ]
     },
     "execution_count": 12,
     "metadata": {},
     "output_type": "execute_result"
    }
   ],
   "source": [
    "t1 = stats.t.ppf(alpha/2, df=n-1)\n",
    "t2 = stats.t.ppf(1-alpha/2, df=n-1)\n",
    "t1, t2"
   ]
  },
  {
   "cell_type": "markdown",
   "metadata": {
    "id": "pqTxIrgwc0qn"
   },
   "source": [
    "Теперь найдём границы интервала:"
   ]
  },
  {
   "cell_type": "code",
   "execution_count": 13,
   "metadata": {
    "colab": {
     "base_uri": "https://localhost:8080/"
    },
    "executionInfo": {
     "elapsed": 26,
     "status": "ok",
     "timestamp": 1639495214560,
     "user": {
      "displayName": "Михаил Розов",
      "photoUrl": "https://lh3.googleusercontent.com/a/default-user=s64",
      "userId": "00462108907836186981"
     },
     "user_tz": -180
    },
    "id": "TRIL3Yvxcc4F",
    "outputId": "0f5b1c47-f867-4d9b-d14b-d8821bdd8d10"
   },
   "outputs": [
    {
     "data": {
      "text/plain": [
       "(110.55608365158724, 125.64391634841274)"
      ]
     },
     "execution_count": 13,
     "metadata": {},
     "output_type": "execute_result"
    }
   ],
   "source": [
    "left = X_mean + t1 * std_X / n**0.5\n",
    "right = X_mean + t2 * std_X / n**0.5\n",
    "left, right"
   ]
  },
  {
   "cell_type": "markdown",
   "metadata": {
    "id": "70lKBoTjdJO6"
   },
   "source": [
    "Это и будет искомый доверительный интервал."
   ]
  },
  {
   "cell_type": "markdown",
   "metadata": {
    "id": "0XqHm-tGdqGh"
   },
   "source": [
    "#### Задание 3.  \n",
    "*Известно, что рост футболистов в сборной распределен нормально  \n",
    "с дисперсией генеральной совокупности, равной 25 кв.см. Объем выборки   \n",
    "равен 27, среднее выборочное составляет 174.2. Найдите доверительный  \n",
    "интервал для математического ожидания с надежностью 0.95.*"
   ]
  },
  {
   "cell_type": "code",
   "execution_count": 14,
   "metadata": {
    "executionInfo": {
     "elapsed": 20,
     "status": "ok",
     "timestamp": 1639495214561,
     "user": {
      "displayName": "Михаил Розов",
      "photoUrl": "https://lh3.googleusercontent.com/a/default-user=s64",
      "userId": "00462108907836186981"
     },
     "user_tz": -180
    },
    "id": "PRI7eqZAexih"
   },
   "outputs": [],
   "source": [
    "D_X = 25\n",
    "n = 27\n",
    "X_mean = 174.2\n",
    "p = 0.95"
   ]
  },
  {
   "cell_type": "markdown",
   "metadata": {
    "id": "pVYfvWmkd2mj"
   },
   "source": [
    "Данная задача аналогична предыдущей, за исключением того, что здесь  \n",
    "нам известна дисперсия генеральной совокупности. В этом случае будем  \n",
    "использовать Z-статистику, имеющую стандартное нормальное распределение.  \n",
    "Доверительный интервал будет иметь вид:  \n",
    "<br>\n",
    "<img src=\"https://latex.codecogs.com/svg.image?\\inline&space;P(\\overline{X}&space;&plus;&space;t_{\\alpha/2}&space;\\cdot&space;\\dfrac{\\sigma}{\\sqrt{n}}&space;\\le&space;\\mu&space;\\le&space;\\overline{X}&space;&plus;&space;t_{1&space;-&space;\\alpha/2}&space;\\cdot&space;\\dfrac{\\sigma}{\\sqrt{n}})&space;=&space;p\" title=\"\\inline P(\\overline{X} + t_{\\alpha/2} \\cdot \\dfrac{\\sigma}{\\sqrt{n}} \\le \\mu \\le \\overline{X} + t_{1 - \\alpha/2} \\cdot \\dfrac{\\sigma}{\\sqrt{n}}) = p\" />"
   ]
  },
  {
   "cell_type": "markdown",
   "metadata": {
    "id": "dLnyqwt-fMwo"
   },
   "source": [
    "Здесь <img src=\"https://latex.codecogs.com/svg.image?\\inline&space;\\alpha&space;=&space;1&space;-&space;p\" title=\"\\inline \\alpha = 1 - p\" />;  \n",
    "<img src=\"https://latex.codecogs.com/svg.image?\\inline&space;\\overline{X}\" title=\"\\inline \\overline{X}\" /> - выборочное среднее;  \n",
    "<img src=\"https://latex.codecogs.com/svg.image?\\inline&space;t_{\\alpha/2}\" title=\"\\inline t_{\\alpha/2}\" />, <img src=\"https://latex.codecogs.com/svg.image?\\inline&space;t_{1&space;-&space;\\alpha/2}\" title=\"\\inline t_{1 - \\alpha/2}\" /> - квантили для стандартного нормального распределения;  \n",
    "<img src=\"https://latex.codecogs.com/svg.image?\\inline&space;\\sigma\" title=\"\\inline \\sigma\" /> - среднее квадратическое отклонение генеральной совокупности;  \n",
    "n - размер выборки."
   ]
  },
  {
   "cell_type": "markdown",
   "metadata": {
    "id": "fTkZbnI3fbwA"
   },
   "source": [
    "Найдём недостающие значения:"
   ]
  },
  {
   "cell_type": "code",
   "execution_count": 15,
   "metadata": {
    "colab": {
     "base_uri": "https://localhost:8080/"
    },
    "executionInfo": {
     "elapsed": 19,
     "status": "ok",
     "timestamp": 1639495214561,
     "user": {
      "displayName": "Михаил Розов",
      "photoUrl": "https://lh3.googleusercontent.com/a/default-user=s64",
      "userId": "00462108907836186981"
     },
     "user_tz": -180
    },
    "id": "bGcJSywkdH7M",
    "outputId": "6edf0f48-0f6a-4dee-b955-cbd2ac597d29"
   },
   "outputs": [
    {
     "data": {
      "text/plain": [
       "5.0"
      ]
     },
     "execution_count": 15,
     "metadata": {},
     "output_type": "execute_result"
    }
   ],
   "source": [
    "std_X = D_X**0.5\n",
    "std_X"
   ]
  },
  {
   "cell_type": "code",
   "execution_count": 16,
   "metadata": {
    "colab": {
     "base_uri": "https://localhost:8080/"
    },
    "executionInfo": {
     "elapsed": 14,
     "status": "ok",
     "timestamp": 1639495214562,
     "user": {
      "displayName": "Михаил Розов",
      "photoUrl": "https://lh3.googleusercontent.com/a/default-user=s64",
      "userId": "00462108907836186981"
     },
     "user_tz": -180
    },
    "id": "LcqTipGQflrl",
    "outputId": "e83b7dc2-5de6-45d0-e1e0-739418d4cfcd"
   },
   "outputs": [
    {
     "data": {
      "text/plain": [
       "(-1.959963984540054, 1.959963984540054)"
      ]
     },
     "execution_count": 16,
     "metadata": {},
     "output_type": "execute_result"
    }
   ],
   "source": [
    "t1 = stats.norm.ppf(alpha/2)\n",
    "t2 = stats.norm.ppf(1-alpha/2)\n",
    "t1, t2"
   ]
  },
  {
   "cell_type": "markdown",
   "metadata": {
    "id": "Pe17Q65Rf-Nc"
   },
   "source": [
    "Теперь найдём границы интервала:"
   ]
  },
  {
   "cell_type": "code",
   "execution_count": 17,
   "metadata": {
    "colab": {
     "base_uri": "https://localhost:8080/"
    },
    "executionInfo": {
     "elapsed": 10,
     "status": "ok",
     "timestamp": 1639495214562,
     "user": {
      "displayName": "Михаил Розов",
      "photoUrl": "https://lh3.googleusercontent.com/a/default-user=s64",
      "userId": "00462108907836186981"
     },
     "user_tz": -180
    },
    "id": "HFrobPZYf-Nc",
    "outputId": "aecad8f4-8ba7-4981-b9b0-0778d37ec7c3"
   },
   "outputs": [
    {
     "data": {
      "text/plain": [
       "(172.3140237765397, 176.08597622346028)"
      ]
     },
     "execution_count": 17,
     "metadata": {},
     "output_type": "execute_result"
    }
   ],
   "source": [
    "left = X_mean + t1 * std_X / n**0.5\n",
    "right = X_mean + t2 * std_X / n**0.5\n",
    "left, right"
   ]
  },
  {
   "cell_type": "markdown",
   "metadata": {
    "id": "g04cgh3lf-Nc"
   },
   "source": [
    "Это и будет искомый доверительный интервал."
   ]
  }
 ],
 "metadata": {
  "colab": {
   "authorship_tag": "ABX9TyPAiu68CSL1T76q1l4RKHdo",
   "collapsed_sections": [],
   "name": "Lesson_6_tasks.ipynb",
   "provenance": []
  },
  "kernelspec": {
   "display_name": "Python 3 (ipykernel)",
   "language": "python",
   "name": "python3"
  },
  "language_info": {
   "codemirror_mode": {
    "name": "ipython",
    "version": 3
   },
   "file_extension": ".py",
   "mimetype": "text/x-python",
   "name": "python",
   "nbconvert_exporter": "python",
   "pygments_lexer": "ipython3",
   "version": "3.9.7"
  }
 },
 "nbformat": 4,
 "nbformat_minor": 4
}
