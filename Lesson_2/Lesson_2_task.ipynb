{
 "cells": [
  {
   "cell_type": "markdown",
   "metadata": {
    "id": "N1mKc43d9R4E"
   },
   "source": [
    "### Практическое задание к уроку № 2 по теме \"Дискретные случайные величины.  \n",
    "### Закон распределения вероятностей. Биномиальный закон распределения.  \n",
    "### Распределение Пуассона.\"\n"
   ]
  },
  {
   "cell_type": "markdown",
   "metadata": {
    "id": "HqYMg-zq887A"
   },
   "source": [
    "#### Задачи 1 и 2.  \n",
    "*Контрольная работа состоит из пяти вопросов. На каждый вопрос  \n",
    "приведено четыре варианта ответа, один из которых правильный.  \n",
    "Случайная величина X задаёт число правильных ответов при простом  \n",
    "угадывании. Найдите математическое ожидание данной случайной  \n",
    "величины. Найдите дисперсию случайной величины X.*  "
   ]
  },
  {
   "cell_type": "code",
   "execution_count": 1,
   "metadata": {
    "id": "Lr6lWVq0_f8q"
   },
   "outputs": [],
   "source": [
    "%matplotlib inline\n",
    "# %config InlineBackend.figure_format='svg'\n",
    "\n",
    "import numpy as np\n",
    "import matplotlib.pyplot as plt\n",
    "from pylab import rcParams"
   ]
  },
  {
   "cell_type": "markdown",
   "metadata": {
    "id": "vCNcjighEhX7"
   },
   "source": [
    "У нас 6 возможных исходов:  \n",
    "мы не отвечаем ни на один вопрос, на ровно один, на ровно два и т.д. до ровно пяти:"
   ]
  },
  {
   "cell_type": "markdown",
   "metadata": {
    "id": "3fkoT4eZ-MZF"
   },
   "source": [
    "<img src=\"https://latex.codecogs.com/svg.image?X_1&space;=&space;0,&space;X_2&space;=&space;1,&space;X_3&space;=&space;2,&space;X_4&space;=&space;3,&space;X_5&space;=&space;4,&space;X_6&space;=&space;5\" title=\"X_1 = 0, X_2 = 1, X_3 = 2, X_4 = 3, X_5 = 4, X_6 = 5\" />"
   ]
  },
  {
   "cell_type": "markdown",
   "metadata": {
    "id": "ZOM2t-idFK9n"
   },
   "source": [
    "Так как в решении нам понадобится формула Бернулли, то  \n",
    "определим функции расчёта сочетаний и самой формулы:"
   ]
  },
  {
   "cell_type": "code",
   "execution_count": 2,
   "metadata": {
    "id": "bziHB1Te844m"
   },
   "outputs": [],
   "source": [
    "def combinations(k, n):\n",
    "    return np.math.factorial(n) / (np.math.factorial(k) * np.math.factorial(n-k))"
   ]
  },
  {
   "cell_type": "code",
   "execution_count": 3,
   "metadata": {
    "id": "COGtdJ9q_wBk"
   },
   "outputs": [],
   "source": [
    "def bernoulli(k, n, p):\n",
    "    return combinations(k, n) * p**k * (1-p)**(n-k)"
   ]
  },
  {
   "cell_type": "markdown",
   "metadata": {
    "id": "r9CEIEL8FpBR"
   },
   "source": [
    "В нашем примере число вопросов в контрольной - 5, а вероятность угадать ответ  \n",
    "на каждый вопрос в отдельности равна 0,25. Значит, n=5, p=0.25."
   ]
  },
  {
   "cell_type": "code",
   "execution_count": 4,
   "metadata": {
    "id": "BuLqW9VQISuE"
   },
   "outputs": [],
   "source": [
    "n = 5\n",
    "p = 0.25"
   ]
  },
  {
   "cell_type": "markdown",
   "metadata": {
    "id": "DiMtF7nGGWMV"
   },
   "source": [
    "Тогда, вероятность не ответить правильно ни на один вопрос равна:"
   ]
  },
  {
   "cell_type": "code",
   "execution_count": 5,
   "metadata": {
    "colab": {
     "base_uri": "https://localhost:8080/"
    },
    "id": "rmEJjgPPAIMG",
    "outputId": "ac87ac7a-2ac3-4ff2-dee5-54998783a8e6"
   },
   "outputs": [
    {
     "data": {
      "text/plain": [
       "0.2373046875"
      ]
     },
     "execution_count": 5,
     "metadata": {},
     "output_type": "execute_result"
    }
   ],
   "source": [
    "P_0 = bernoulli(0, n, p)\n",
    "P_0"
   ]
  },
  {
   "cell_type": "markdown",
   "metadata": {
    "id": "dL--R8awGpsX"
   },
   "source": [
    "Вероятность ответить правильно ровно на 1 вопрос:"
   ]
  },
  {
   "cell_type": "code",
   "execution_count": 6,
   "metadata": {
    "colab": {
     "base_uri": "https://localhost:8080/"
    },
    "id": "bxRr183DAZ-P",
    "outputId": "acc9f831-2165-4300-fd1a-0ef24d1444ee"
   },
   "outputs": [
    {
     "data": {
      "text/plain": [
       "0.3955078125"
      ]
     },
     "execution_count": 6,
     "metadata": {},
     "output_type": "execute_result"
    }
   ],
   "source": [
    "P_1 = bernoulli(1, n, p)\n",
    "P_1"
   ]
  },
  {
   "cell_type": "markdown",
   "metadata": {
    "id": "Fi8JV0QgGvPD"
   },
   "source": [
    "Далее расчеты вероятности для других \"иксов\":"
   ]
  },
  {
   "cell_type": "code",
   "execution_count": 7,
   "metadata": {
    "colab": {
     "base_uri": "https://localhost:8080/"
    },
    "id": "Sarz9hO-AeI-",
    "outputId": "a9f54dd5-70cc-4553-c797-8b6e3b922134"
   },
   "outputs": [
    {
     "data": {
      "text/plain": [
       "0.263671875"
      ]
     },
     "execution_count": 7,
     "metadata": {},
     "output_type": "execute_result"
    }
   ],
   "source": [
    "P_2 = bernoulli(2, n, p)\n",
    "P_2"
   ]
  },
  {
   "cell_type": "code",
   "execution_count": 8,
   "metadata": {
    "colab": {
     "base_uri": "https://localhost:8080/"
    },
    "id": "YP1JFdKAAhNf",
    "outputId": "e0e4af91-cee0-4feb-f3fe-327ab790e5f0"
   },
   "outputs": [
    {
     "data": {
      "text/plain": [
       "0.087890625"
      ]
     },
     "execution_count": 8,
     "metadata": {},
     "output_type": "execute_result"
    }
   ],
   "source": [
    "P_3 = bernoulli(3, n, p)\n",
    "P_3"
   ]
  },
  {
   "cell_type": "code",
   "execution_count": 9,
   "metadata": {
    "colab": {
     "base_uri": "https://localhost:8080/"
    },
    "id": "3-qNxOAnAk0u",
    "outputId": "df92771e-ddb1-4372-aefc-b47bef9fb7df"
   },
   "outputs": [
    {
     "data": {
      "text/plain": [
       "0.0146484375"
      ]
     },
     "execution_count": 9,
     "metadata": {},
     "output_type": "execute_result"
    }
   ],
   "source": [
    "P_4 = bernoulli(4, n, p)\n",
    "P_4"
   ]
  },
  {
   "cell_type": "code",
   "execution_count": 10,
   "metadata": {
    "colab": {
     "base_uri": "https://localhost:8080/"
    },
    "id": "1QSJl9mnAmym",
    "outputId": "40f575fe-898c-44c4-9389-65298ff96abf"
   },
   "outputs": [
    {
     "data": {
      "text/plain": [
       "0.0009765625"
      ]
     },
     "execution_count": 10,
     "metadata": {},
     "output_type": "execute_result"
    }
   ],
   "source": [
    "P_5 = bernoulli(5, n, p)\n",
    "P_5"
   ]
  },
  {
   "cell_type": "markdown",
   "metadata": {
    "id": "Yq84NKWRG3pR"
   },
   "source": [
    "Построим график распределения случайной величины Х:"
   ]
  },
  {
   "cell_type": "code",
   "execution_count": 11,
   "metadata": {
    "colab": {
     "base_uri": "https://localhost:8080/",
     "height": 385
    },
    "id": "-XCsv8KzAoln",
    "outputId": "12d69d64-d782-4256-c77c-074713ef9dd3"
   },
   "outputs": [
    {
     "data": {
      "image/png": "[encoded data removed]",
      "text/plain": [
       "<Figure size 576x360 with 1 Axes>"
      ]
     },
     "metadata": {},
     "output_type": "display_data"
    }
   ],
   "source": [
    "x = range(0, 6)\n",
    "y = (P_0, P_1, P_2, P_3, P_4, P_5)\n",
    "\n",
    "rcParams['font.size'] = 15\n",
    "rcParams['figure.figsize'] = 8, 5\n",
    "plt.style.use('seaborn-whitegrid')\n",
    "plt.plot(x, y)\n",
    "plt.title('Распределение случайной величины')\n",
    "plt.xlabel('Значение')\n",
    "plt.ylabel('Вероятность')\n",
    "\n",
    "plt.show()"
   ]
  },
  {
   "cell_type": "markdown",
   "metadata": {
    "id": "d5piQPIiIn83"
   },
   "source": [
    "Математическое ожидание случайной величины:"
   ]
  },
  {
   "cell_type": "code",
   "execution_count": 12,
   "metadata": {
    "colab": {
     "base_uri": "https://localhost:8080/"
    },
    "id": "v-YtRi9oBcNP",
    "outputId": "f1c94ba3-6141-4db5-bfe8-3e80d84156f3"
   },
   "outputs": [
    {
     "data": {
      "text/plain": [
       "1.25"
      ]
     },
     "execution_count": 12,
     "metadata": {},
     "output_type": "execute_result"
    }
   ],
   "source": [
    "M_x = n * p\n",
    "M_x"
   ]
  },
  {
   "cell_type": "markdown",
   "metadata": {
    "id": "Jq_4pYltIuqb"
   },
   "source": [
    "Т.е. в среднем, мы будем правильно отвечать на 1,25 вопросов из 5.  \n",
    "Дисперсия:"
   ]
  },
  {
   "cell_type": "code",
   "execution_count": 13,
   "metadata": {
    "colab": {
     "base_uri": "https://localhost:8080/"
    },
    "id": "1ZJtrrinBlsH",
    "outputId": "578fc8e5-25c7-4441-a239-aacf11ebe57c"
   },
   "outputs": [
    {
     "data": {
      "text/plain": [
       "0.9375"
      ]
     },
     "execution_count": 13,
     "metadata": {},
     "output_type": "execute_result"
    }
   ],
   "source": [
    "D_x = n * p * (1 - p)\n",
    "D_x"
   ]
  },
  {
   "cell_type": "markdown",
   "metadata": {
    "id": "UrpZNYXdJMkz"
   },
   "source": [
    "#### Задача 3.  \n",
    "*Пользователь получает в среднем 10 писем со спамом на свой почтовый ящик за  \n",
    "сутки. Найти число N, такое, что с вероятностью 0.95 пользователь получит не  \n",
    "более N писем со спамом за текущий день.*"
   ]
  },
  {
   "cell_type": "markdown",
   "metadata": {
    "id": "3n-QBDdQJhf2"
   },
   "source": [
    "Это задача на распределение Пуассона, где λ=10.  \n",
    "Перефразируя условие, нам нужно найти N из уравнения:  \n",
    "<img src=\"https://latex.codecogs.com/svg.image?P(X&space;\\le&space;N)&space;=&space;\\sum_{i=0}^N\\dfrac{10^N&space;\\cdot&space;e^{-10}}{N!}&space;=&space;0.95\" title=\"P(X \\le N) = \\sum_{i=0}^N\\dfrac{10^N \\cdot e^{-10}}{N!} = 0.95\" />"
   ]
  },
  {
   "cell_type": "markdown",
   "metadata": {
    "id": "F7UM2JY8MyIJ"
   },
   "source": [
    "Обозначим функцию для расчёта этой формулы:"
   ]
  },
  {
   "cell_type": "code",
   "execution_count": 14,
   "metadata": {
    "id": "8mNTilgyBptt"
   },
   "outputs": [],
   "source": [
    "def poisson(N):\n",
    "    return 10**N * np.exp(-10) / np.math.factorial(N)"
   ]
  },
  {
   "cell_type": "markdown",
   "metadata": {
    "id": "o7_JE7EaNXOY"
   },
   "source": [
    "Построим диаграмму распределения случайной величины:"
   ]
  },
  {
   "cell_type": "code",
   "execution_count": 15,
   "metadata": {
    "colab": {
     "base_uri": "https://localhost:8080/",
     "height": 385
    },
    "id": "3bR9QO0HNTc_",
    "outputId": "3083795f-4b81-4974-9eeb-ad6cd5fcf230"
   },
   "outputs": [
    {
     "data": {
      "image/png": "[encoded data removed]",
      "text/plain": [
       "<Figure size 576x360 with 1 Axes>"
      ]
     },
     "metadata": {},
     "output_type": "display_data"
    }
   ],
   "source": [
    "x = range(26)\n",
    "y = list(poisson(i) for i in x)\n",
    "\n",
    "plt.plot(x, y)\n",
    "plt.title('Распределение случайной величины')\n",
    "plt.xlabel('Значение')\n",
    "plt.ylabel('Вероятность')\n",
    "\n",
    "plt.show()"
   ]
  },
  {
   "cell_type": "markdown",
   "metadata": {
    "id": "qaAScM_WPMMs"
   },
   "source": [
    "Напишем код для поиска N:"
   ]
  },
  {
   "cell_type": "code",
   "execution_count": 16,
   "metadata": {
    "id": "xJSoE3NMN1yB"
   },
   "outputs": [],
   "source": [
    "N = -1\n",
    "sum_ = 0\n",
    "\n",
    "while sum_ < 0.95:\n",
    "    sum_ = 0\n",
    "    N += 1\n",
    "    for i in range(N + 1):\n",
    "        sum_ += poisson(i)"
   ]
  },
  {
   "cell_type": "code",
   "execution_count": 17,
   "metadata": {
    "colab": {
     "base_uri": "https://localhost:8080/"
    },
    "id": "OL0ASoESO2zB",
    "outputId": "3fc5d361-14fa-4a5f-985b-ed7e879ca495"
   },
   "outputs": [
    {
     "data": {
      "text/plain": [
       "15"
      ]
     },
     "execution_count": 17,
     "metadata": {},
     "output_type": "execute_result"
    }
   ],
   "source": [
    "N"
   ]
  },
  {
   "cell_type": "markdown",
   "metadata": {
    "id": "UWQISspQR_a_"
   },
   "source": [
    "Посмотрим, чему равна вероятность получить не более 15 писем  \n",
    "со спамом в день:"
   ]
  },
  {
   "cell_type": "code",
   "execution_count": 18,
   "metadata": {
    "colab": {
     "base_uri": "https://localhost:8080/"
    },
    "id": "uuVHz5QvRTqY",
    "outputId": "71752b15-5227-45c7-91d9-f9ade8ad59f1"
   },
   "outputs": [
    {
     "data": {
      "text/plain": [
       "0.9512595966960214"
      ]
     },
     "execution_count": 18,
     "metadata": {},
     "output_type": "execute_result"
    }
   ],
   "source": [
    "P = sum(poisson(i) for i in range(16))\n",
    "P"
   ]
  },
  {
   "cell_type": "markdown",
   "metadata": {
    "id": "HiC9a3jKTBy_"
   },
   "source": [
    "Расчёт был выполнен верно. Таким образом, правильный ответ: <u>N = 15</u>"
   ]
  },
  {
   "cell_type": "markdown",
   "metadata": {
    "id": "k4OBVOIdUVwA"
   },
   "source": [
    "#### Задача 4.\n",
    "*Производятся выстрелы по мишени. Вероятность попадания в мишень при одном  \n",
    "выстреле равна 0.01. Сколько выстрелов нужно сделать чтобы быть уверенным  \n",
    "с вероятностью 0.9, что хотя бы 6 раз будет совершено попадание?*  \n",
    "\n"
   ]
  },
  {
   "cell_type": "markdown",
   "metadata": {
    "id": "YZOgmFDrVd8J"
   },
   "source": [
    "Задача похожа на предыдущую, только здесь биномиальное распределение,  \n",
    "поэтому будем пользоваться формулой Бернулли.  \n",
    "Нам дано p=0.01, k=6."
   ]
  },
  {
   "cell_type": "markdown",
   "metadata": {
    "id": "9lQ6Kl4YWzDx"
   },
   "source": [
    "Нас устроят все варианты, когда число попаданий не равно 0,1,2,3,4,5.  \n",
    "Поэтому эти варианты будем вычитать из 1. В итоге, нужно найти минимальное  \n",
    "значение n, чтобы выполнялось неравенство:\n",
    "\n",
    "<img src=\"https://latex.codecogs.com/svg.image?1&space;-&space;\\sum_{k=0}^5&space;(C_n^k&space;\\cdot&space;0.01^k&space;\\cdot&space;(1-0.01)^{n-k})&space;\\ge&space;0.9\" title=\"1 - \\sum_{k=0}^5 (C_n^k \\cdot 0.01^k \\cdot (1-0.01)^{n-k}) \\ge 0.9\" />  \n",
    "\n",
    "\n",
    "Очевидно, что выстрелов должно быть не менее 6, поэтому n будем  \n",
    "отсчитывать с 6."
   ]
  },
  {
   "cell_type": "code",
   "execution_count": 19,
   "metadata": {
    "id": "_yJFbH_TcO9D"
   },
   "outputs": [],
   "source": [
    "n = 5\n",
    "sum_ = 1\n",
    "\n",
    "while (1 - sum_) < 0.9:\n",
    "    sum_ = 0\n",
    "    n += 1\n",
    "    for k in range(6):\n",
    "        sum_ += bernoulli(k=k, n=n, p=0.01)"
   ]
  },
  {
   "cell_type": "code",
   "execution_count": 20,
   "metadata": {
    "colab": {
     "base_uri": "https://localhost:8080/"
    },
    "id": "iAoe8YnrdRyx",
    "outputId": "feb32c95-e777-41d4-f608-69367dcb6b7f"
   },
   "outputs": [
    {
     "data": {
      "text/plain": [
       "926"
      ]
     },
     "execution_count": 20,
     "metadata": {},
     "output_type": "execute_result"
    }
   ],
   "source": [
    "n"
   ]
  },
  {
   "cell_type": "markdown",
   "metadata": {
    "id": "woFX0gHWddyi"
   },
   "source": [
    "Посчитаем вероятность попасть в мишень как минимум 6 раз при 926 выстрелах:"
   ]
  },
  {
   "cell_type": "code",
   "execution_count": 21,
   "metadata": {
    "colab": {
     "base_uri": "https://localhost:8080/"
    },
    "id": "7LGZALfMdSZD",
    "outputId": "da95d024-940d-48c5-a45e-b73daaa327fe"
   },
   "outputs": [
    {
     "data": {
      "text/plain": [
       "0.9003627121531355"
      ]
     },
     "execution_count": 21,
     "metadata": {},
     "output_type": "execute_result"
    }
   ],
   "source": [
    "P = 1 - sum(bernoulli(k=i, n=926, p=0.01) for i in range(6))\n",
    "P"
   ]
  },
  {
   "cell_type": "markdown",
   "metadata": {
    "id": "_aDAJioNtEwu"
   },
   "source": [
    "Расчёт был выполнен верно. Таким образом, правильный ответ: <u>n = 926</u>"
   ]
  }
 ],
 "metadata": {
  "colab": {
   "collapsed_sections": [],
   "name": "Lesson_2_task.ipynb",
   "provenance": []
  },
  "kernelspec": {
   "display_name": "Python 3 (ipykernel)",
   "language": "python",
   "name": "python3"
  },
  "language_info": {
   "codemirror_mode": {
    "name": "ipython",
    "version": 3
   },
   "file_extension": ".py",
   "mimetype": "text/x-python",
   "name": "python",
   "nbconvert_exporter": "python",
   "pygments_lexer": "ipython3",
   "version": "3.9.7"
  }
 },
 "nbformat": 4,
 "nbformat_minor": 4
}
