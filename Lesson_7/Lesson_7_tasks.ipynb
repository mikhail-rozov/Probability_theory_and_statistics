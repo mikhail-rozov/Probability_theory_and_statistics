{
 "cells": [
  {
   "cell_type": "markdown",
   "metadata": {
    "id": "igOe_DYczDpY"
   },
   "source": [
    "### Практическое задание к уроку № 7 по теме \"Линейная регрессия. Двухвыборочный t-тест. A/B-тестирование\"."
   ]
  },
  {
   "cell_type": "markdown",
   "metadata": {
    "id": "UE3BKP-szS0M"
   },
   "source": [
    "#### Задание 1.\n",
    "*Дана матрица объект-признак*\n",
    "```\n",
    "X = [[ 1.22401313,  2.30868478,  3.03636353,  2.69287214],\n",
    "     [-0.18757272,  1.30337355,  5.12093014,  3.46363202],\n",
    "     [-0.81094525,  1.82463398,  5.79686488,  1.86159445],\n",
    "     [ 0.75129018,  2.67392052,  3.65529809,  1.66746094],\n",
    "     [ 0.00972362,  1.97367255,  2.50594319,  1.69755173],\n",
    "     [-0.62972637,  0.77750764,  2.84124027,  4.54410559],\n",
    "     [ 2.29536229,  1.81206697,  1.95026215,  1.51874636],\n",
    "     [ 0.0920418 ,  2.26971361,  7.47708735,  2.61081203],\n",
    "     [ 2.39252799,  3.17563985,  3.61420599,  5.10773362],\n",
    "     [ 0.54983815,  2.87988651,  1.65752765,  1.59635987]]\n",
    "```\n",
    "*и значения целевой переменной*\n",
    "```\n",
    "y = [ 9.26193358,  9.700363  ,  8.67214805,  8.74796974,  6.18689108,\n",
    "      7.53312713,  7.57643777, 12.44965478, 14.29010746,  6.68361218]\n",
    "```\n",
    "\n",
    "*Подберите два признака (из четырёх) так, чтобы уровень линейной зависимости  \n",
    "целевой переменной от значений этих признаков был максимальным.  \n",
    "Другими словами, модель линейной регрессии на этих признаках должна давать  \n",
    "наилучший результат. В качестве ответа запишите значение коэффициента  \n",
    "детерминации для модели на этих признаках.*"
   ]
  },
  {
   "cell_type": "code",
   "execution_count": 1,
   "metadata": {
    "id": "X2hDMJIozA-I"
   },
   "outputs": [],
   "source": [
    "import numpy as np\n",
    "import pandas as pd"
   ]
  },
  {
   "cell_type": "code",
   "execution_count": 2,
   "metadata": {
    "id": "c5rrheA70KZk"
   },
   "outputs": [],
   "source": [
    "X = np.array([[ 1.22401313,  2.30868478,  3.03636353,  2.69287214],\n",
    "            [-0.18757272,  1.30337355,  5.12093014,  3.46363202],\n",
    "            [-0.81094525,  1.82463398,  5.79686488,  1.86159445],\n",
    "            [ 0.75129018,  2.67392052,  3.65529809,  1.66746094],\n",
    "            [ 0.00972362,  1.97367255,  2.50594319,  1.69755173],\n",
    "            [-0.62972637,  0.77750764,  2.84124027,  4.54410559],\n",
    "            [ 2.29536229,  1.81206697,  1.95026215,  1.51874636],\n",
    "            [ 0.0920418 ,  2.26971361,  7.47708735,  2.61081203],\n",
    "            [ 2.39252799,  3.17563985,  3.61420599,  5.10773362],\n",
    "            [ 0.54983815,  2.87988651,  1.65752765,  1.59635987]])\n",
    "\n",
    "Y = np.array([[9.26193358,  9.700363  ,  8.67214805,  8.74796974,  6.18689108,\n",
    "              7.53312713,  7.57643777, 12.44965478, 14.29010746,  6.68361218]])"
   ]
  },
  {
   "cell_type": "markdown",
   "metadata": {
    "id": "L_4FE6xz_eKN"
   },
   "source": [
    "Для удобства работы с данными представим их в виде таблицы:"
   ]
  },
  {
   "cell_type": "code",
   "execution_count": 3,
   "metadata": {
    "colab": {
     "base_uri": "https://localhost:8080/",
     "height": 363
    },
    "id": "oJqKidRp1WZv",
    "outputId": "1f3f8540-efee-4a90-e141-0cfa17a79ea4"
   },
   "outputs": [
    {
     "data": {
      "text/html": [
       "<div>\n",
       "<style scoped>\n",
       "    .dataframe tbody tr th:only-of-type {\n",
       "        vertical-align: middle;\n",
       "    }\n",
       "\n",
       "    .dataframe tbody tr th {\n",
       "        vertical-align: top;\n",
       "    }\n",
       "\n",
       "    .dataframe thead th {\n",
       "        text-align: right;\n",
       "    }\n",
       "</style>\n",
       "<table border=\"1\" class=\"dataframe\">\n",
       "  <thead>\n",
       "    <tr style=\"text-align: right;\">\n",
       "      <th></th>\n",
       "      <th>x1</th>\n",
       "      <th>x2</th>\n",
       "      <th>x3</th>\n",
       "      <th>x4</th>\n",
       "      <th>y</th>\n",
       "    </tr>\n",
       "  </thead>\n",
       "  <tbody>\n",
       "    <tr>\n",
       "      <th>0</th>\n",
       "      <td>1.224013</td>\n",
       "      <td>2.308685</td>\n",
       "      <td>3.036364</td>\n",
       "      <td>2.692872</td>\n",
       "      <td>9.261934</td>\n",
       "    </tr>\n",
       "    <tr>\n",
       "      <th>1</th>\n",
       "      <td>-0.187573</td>\n",
       "      <td>1.303374</td>\n",
       "      <td>5.120930</td>\n",
       "      <td>3.463632</td>\n",
       "      <td>9.700363</td>\n",
       "    </tr>\n",
       "    <tr>\n",
       "      <th>2</th>\n",
       "      <td>-0.810945</td>\n",
       "      <td>1.824634</td>\n",
       "      <td>5.796865</td>\n",
       "      <td>1.861594</td>\n",
       "      <td>8.672148</td>\n",
       "    </tr>\n",
       "    <tr>\n",
       "      <th>3</th>\n",
       "      <td>0.751290</td>\n",
       "      <td>2.673921</td>\n",
       "      <td>3.655298</td>\n",
       "      <td>1.667461</td>\n",
       "      <td>8.747970</td>\n",
       "    </tr>\n",
       "    <tr>\n",
       "      <th>4</th>\n",
       "      <td>0.009724</td>\n",
       "      <td>1.973673</td>\n",
       "      <td>2.505943</td>\n",
       "      <td>1.697552</td>\n",
       "      <td>6.186891</td>\n",
       "    </tr>\n",
       "    <tr>\n",
       "      <th>5</th>\n",
       "      <td>-0.629726</td>\n",
       "      <td>0.777508</td>\n",
       "      <td>2.841240</td>\n",
       "      <td>4.544106</td>\n",
       "      <td>7.533127</td>\n",
       "    </tr>\n",
       "    <tr>\n",
       "      <th>6</th>\n",
       "      <td>2.295362</td>\n",
       "      <td>1.812067</td>\n",
       "      <td>1.950262</td>\n",
       "      <td>1.518746</td>\n",
       "      <td>7.576438</td>\n",
       "    </tr>\n",
       "    <tr>\n",
       "      <th>7</th>\n",
       "      <td>0.092042</td>\n",
       "      <td>2.269714</td>\n",
       "      <td>7.477087</td>\n",
       "      <td>2.610812</td>\n",
       "      <td>12.449655</td>\n",
       "    </tr>\n",
       "    <tr>\n",
       "      <th>8</th>\n",
       "      <td>2.392528</td>\n",
       "      <td>3.175640</td>\n",
       "      <td>3.614206</td>\n",
       "      <td>5.107734</td>\n",
       "      <td>14.290107</td>\n",
       "    </tr>\n",
       "    <tr>\n",
       "      <th>9</th>\n",
       "      <td>0.549838</td>\n",
       "      <td>2.879887</td>\n",
       "      <td>1.657528</td>\n",
       "      <td>1.596360</td>\n",
       "      <td>6.683612</td>\n",
       "    </tr>\n",
       "  </tbody>\n",
       "</table>\n",
       "</div>"
      ],
      "text/plain": [
       "         x1        x2        x3        x4          y\n",
       "0  1.224013  2.308685  3.036364  2.692872   9.261934\n",
       "1 -0.187573  1.303374  5.120930  3.463632   9.700363\n",
       "2 -0.810945  1.824634  5.796865  1.861594   8.672148\n",
       "3  0.751290  2.673921  3.655298  1.667461   8.747970\n",
       "4  0.009724  1.973673  2.505943  1.697552   6.186891\n",
       "5 -0.629726  0.777508  2.841240  4.544106   7.533127\n",
       "6  2.295362  1.812067  1.950262  1.518746   7.576438\n",
       "7  0.092042  2.269714  7.477087  2.610812  12.449655\n",
       "8  2.392528  3.175640  3.614206  5.107734  14.290107\n",
       "9  0.549838  2.879887  1.657528  1.596360   6.683612"
      ]
     },
     "execution_count": 3,
     "metadata": {},
     "output_type": "execute_result"
    }
   ],
   "source": [
    "data = np.hstack((X, Y.T))\n",
    "columns = ['x1', 'x2', 'x3', 'x4', 'y']\n",
    "df = pd.DataFrame(data=data, columns=columns)\n",
    "df"
   ]
  },
  {
   "cell_type": "markdown",
   "metadata": {},
   "source": [
    "Зададим функцию для нахождения коэффициента детерминации  \n",
    "с помощью метода наименьших квадратов:"
   ]
  },
  {
   "cell_type": "code",
   "execution_count": 4,
   "metadata": {},
   "outputs": [],
   "source": [
    "def R2(x1, x2, y):\n",
    "    \n",
    "    x = pd.concat([x1, x2], axis=1).values\n",
    "    x0 = np.ones((x.shape[0], 1))\n",
    "    x = np.hstack((x0, x))\n",
    "    xtx = x.T.dot(x)\n",
    "    xtx_inv = np.linalg.inv(xtx)\n",
    "    \n",
    "    b = xtx_inv.dot(x.T).dot(y)\n",
    "    e = y - x.dot(b)\n",
    "    SSres = ((e - e.mean())**2).sum()\n",
    "    SSy = ((y - y.mean())**2).sum()\n",
    "    \n",
    "    return 1 - SSres / SSy"
   ]
  },
  {
   "cell_type": "markdown",
   "metadata": {},
   "source": [
    "Для поиска пары признаков, на которых получим наибольший  \n",
    "коэффициент детерминации, воспользуемся циклом:"
   ]
  },
  {
   "cell_type": "code",
   "execution_count": 5,
   "metadata": {},
   "outputs": [
    {
     "name": "stdout",
     "output_type": "stream",
     "text": [
      "Максимальная величина коэффициента детерминации 0.7634246238793152 \n",
      "получена при использовании признаков x1 и x3\n"
     ]
    }
   ],
   "source": [
    "R2_max = 0\n",
    "i_idx = None\n",
    "j_idx = None\n",
    "\n",
    "for i_index, i in enumerate(columns[:-1]):\n",
    "    for j in columns[i_index + 1:-1]:\n",
    "        r2_score = R2(df[i], df[j], df['y'])\n",
    "        \n",
    "        if R2_max < r2_score:\n",
    "            R2_max = r2_score\n",
    "            i_idx = i_index\n",
    "            j_idx = columns.index(j)\n",
    "print(f'Максимальная величина коэффициента детерминации {R2_max} \\n'\n",
    "f'получена при использовании признаков {columns[i_idx]} и {columns[j_idx]}')"
   ]
  },
  {
   "cell_type": "code",
   "execution_count": 6,
   "metadata": {},
   "outputs": [
    {
     "name": "stdout",
     "output_type": "stream",
     "text": [
      "Ответ: 0.7634246238793152\n"
     ]
    }
   ],
   "source": [
    "print(f'Ответ: {R2_max}')"
   ]
  },
  {
   "cell_type": "markdown",
   "metadata": {
    "id": "8wXiQrjGDbxc"
   },
   "source": [
    "#### Задание 2.  \n",
    "*Является ли значимым уравнение регрессии, полученное в предыдущей задаче?  \n",
    "В качестве ответа запишите 1, если является, и 0 иначе.*"
   ]
  },
  {
   "cell_type": "markdown",
   "metadata": {
    "id": "0yXqO37ODzO7"
   },
   "source": [
    "Для решения задачи воспользуемся F-тестом Фишера.  \n",
    "За нулевую гипотезу примем утверждение, что теоретический  \n",
    "коэффициент детерминации равен 0.  \n",
    "Найдём F-статистику:  \n",
    "<br>\n",
    "<img src=\"https://latex.codecogs.com/svg.image?\\inline&space;F&space;=&space;\\dfrac{R^2&space;/&space;m}{(1&space;-&space;R^2)&space;/&space;(n&space;-&space;m&space;-&space;1)}\" title=\"\\inline F = \\dfrac{R^2 / m}{(1 - R^2) / (n - m - 1)}\" />"
   ]
  },
  {
   "cell_type": "code",
   "execution_count": 7,
   "metadata": {
    "id": "-MQN1ie6E6s6"
   },
   "outputs": [],
   "source": [
    "n = df.shape[0] # Число наблюдений\n",
    "m = 2 # Число признаков"
   ]
  },
  {
   "cell_type": "code",
   "execution_count": 8,
   "metadata": {
    "colab": {
     "base_uri": "https://localhost:8080/"
    },
    "id": "zE8sa3jECP3u",
    "outputId": "e940106b-3705-4ae9-bab1-5699aeea52ad"
   },
   "outputs": [
    {
     "data": {
      "text/plain": [
       "11.29443912292265"
      ]
     },
     "execution_count": 8,
     "metadata": {},
     "output_type": "execute_result"
    }
   ],
   "source": [
    "F = (R2_max / m) / ((1 - R2_max) / (n - m - 1))\n",
    "F"
   ]
  },
  {
   "cell_type": "markdown",
   "metadata": {
    "id": "3bBzuHCyFVmB"
   },
   "source": [
    "Зададим уровень значимости <img src=\"https://latex.codecogs.com/svg.image?\\inline&space;\\alpha\" title=\"\\inline \\alpha\" />:"
   ]
  },
  {
   "cell_type": "code",
   "execution_count": 9,
   "metadata": {
    "id": "tdPH5afEE_TG"
   },
   "outputs": [],
   "source": [
    "alpha = 0.05"
   ]
  },
  {
   "cell_type": "markdown",
   "metadata": {
    "id": "jHYxy-hPFjNM"
   },
   "source": [
    "Найдём левую границу правосторонней критической области <img src=\"https://latex.codecogs.com/svg.image?\\inline&space;\\Omega_\\alpha\" title=\"\\inline \\Omega_\\alpha\" />.  \n",
    "Для этого найдём квантиль порядка <img src=\"https://latex.codecogs.com/svg.image?\\inline&space;(1-\\alpha)\" title=\"\\inline (1-\\alpha)\" /> для распределения Фишера  \n",
    "с параметрами k1=m, k2=n-m-1:"
   ]
  },
  {
   "cell_type": "code",
   "execution_count": 10,
   "metadata": {
    "id": "XBOoq6R5GSKs"
   },
   "outputs": [],
   "source": [
    "import scipy.stats as stats"
   ]
  },
  {
   "cell_type": "code",
   "execution_count": 11,
   "metadata": {
    "colab": {
     "base_uri": "https://localhost:8080/"
    },
    "id": "UhxYKt_0Fdte",
    "outputId": "8dc13056-fdb8-485e-9427-0a9d79774fa2"
   },
   "outputs": [
    {
     "data": {
      "text/plain": [
       "4.73741412777588"
      ]
     },
     "execution_count": 11,
     "metadata": {},
     "output_type": "execute_result"
    }
   ],
   "source": [
    "k1 = m\n",
    "k2 = n - m - 1\n",
    "\n",
    "t = stats.f.ppf(1 - alpha, k1, k2)\n",
    "t\n"
   ]
  },
  {
   "cell_type": "markdown",
   "metadata": {
    "id": "_RtQcHWPGvm1"
   },
   "source": [
    "Отобразим критическую область на графике:"
   ]
  },
  {
   "cell_type": "code",
   "execution_count": 12,
   "metadata": {
    "id": "EbnUUogRGhQG"
   },
   "outputs": [],
   "source": [
    "# %config InlineBackend.figure_format = 'svg'\n",
    "%matplotlib inline\n",
    "\n",
    "import matplotlib.pyplot as plt\n",
    "from pylab import rcParams\n",
    "\n",
    "rcParams['font.size'] = 15\n",
    "rcParams['figure.figsize'] = 8, 5\n",
    "plt.style.use('seaborn-whitegrid')"
   ]
  },
  {
   "cell_type": "code",
   "execution_count": 13,
   "metadata": {
    "colab": {
     "base_uri": "https://localhost:8080/",
     "height": 352
    },
    "id": "Uidnr6gPHGDw",
    "outputId": "31c44097-c572-487c-f54c-0f0525de7a79"
   },
   "outputs": [
    {
     "data": {
      "image/png": "[encoded data removed]",
      "text/plain": [
       "<Figure size 576x360 with 1 Axes>"
      ]
     },
     "metadata": {},
     "output_type": "display_data"
    }
   ],
   "source": [
    "ox = np.linspace(0, 7, 200)\n",
    "oy = stats.f(k1, k2).pdf(ox)\n",
    "\n",
    "ox_right = np.linspace(t, 7, 100)\n",
    "oy_right = stats.f(k1, k2).pdf(ox_right)\n",
    "\n",
    "plt.plot(ox, oy)\n",
    "\n",
    "plt.fill_between(ox_right, oy_right, alpha=0.5, color='C0')\n",
    "plt.ylim(0, 0.5)\n",
    "\n",
    "plt.show()"
   ]
  },
  {
   "cell_type": "markdown",
   "metadata": {
    "id": "vZv3axwXIqy_"
   },
   "source": [
    "Наше значение статистики F (11,29) попадает в критическую область,  \n",
    "поэтому нулевая гипотеза отвергается, уравнение признаётся  \n",
    "значимым."
   ]
  },
  {
   "cell_type": "markdown",
   "metadata": {
    "id": "IYufyR3DJX6G"
   },
   "source": [
    "<u>Ответ:</u> 1."
   ]
  },
  {
   "cell_type": "markdown",
   "metadata": {
    "id": "enaANzVKJ7qb"
   },
   "source": [
    "#### Задание 3.  \n",
    "*Для проведения A/B-тестирования сайта интернет-магазина были получены  \n",
    "следующие данные: страница `A` была посещена 2509 раз, из них 77 закончились  \n",
    "совершением покупки, страница `B` была посещена 1465 раз, 60 из них закончились  \n",
    "совершением покупки. Является ли значимым отличие конверсии на страницах `A`  \n",
    "и `B`? В качестве ответа запишите 1, если является, и 0 иначе.*\n",
    "\n",
    "*Подсказка. Реализуйте двухвыборочный t-тест. В качестве выборок здесь  \n",
    "можно взять наборы меток совершения покупки (0 или 1) каждым посетителем.*"
   ]
  },
  {
   "cell_type": "markdown",
   "metadata": {
    "id": "hQ7JaH8BbSib"
   },
   "source": [
    "Зададим выборки A и B, состоящие из нулей и единиц. Размер выборки будет  \n",
    "равен количеству посещений соответствующей страницы. Единицами обозначим  \n",
    "посещения, которые закончились покупкой, остальные посещения обозначим  \n",
    "нулями:"
   ]
  },
  {
   "cell_type": "code",
   "execution_count": 14,
   "metadata": {
    "id": "e2UcLClLHfkG"
   },
   "outputs": [],
   "source": [
    "A = np.ones((77, 1))\n",
    "B = np.ones((60, 1))"
   ]
  },
  {
   "cell_type": "code",
   "execution_count": 15,
   "metadata": {
    "id": "zi0wk61YV08n"
   },
   "outputs": [],
   "source": [
    "A = np.vstack((A, np.zeros((2509-77, 1))))\n",
    "B = np.vstack((B, np.zeros((1465-60, 1))))"
   ]
  },
  {
   "cell_type": "markdown",
   "metadata": {
    "id": "_YwwGs8JfcY4"
   },
   "source": [
    "За нулевую гипотезу примем утверждение, что математические ожидания  \n",
    "двух этих выборок равны."
   ]
  },
  {
   "cell_type": "markdown",
   "metadata": {
    "id": "fOVIIu2Fb1q9"
   },
   "source": [
    "Воспользуемся t-статистикой для двухвыборочного теста:  \n",
    "<br>\n",
    "<img src=\"https://latex.codecogs.com/svg.image?\\inline&space;t&space;=&space;\\dfrac{\\overline{A}&space;-&space;\\overline{B}}{\\sigma_\\Delta}\" title=\"\\inline t = \\dfrac{\\overline{A} - \\overline{B}}{\\sigma_\\Delta}\" />"
   ]
  },
  {
   "cell_type": "markdown",
   "metadata": {
    "id": "CgPiKUX9cPQA"
   },
   "source": [
    "Среднее квадратичное отклонение разности между выборочными средними  \n",
    "выборок <img src=\"https://latex.codecogs.com/svg.image?\\inline&space;\\sigma_\\Delta\" title=\"\\inline \\sigma_\\Delta\" /> найдём по формуле:  \n",
    "<br>\n",
    "<img src=\"https://latex.codecogs.com/svg.image?\\inline&space;\\sigma_\\Delta&space;=&space;\\sqrt{\\dfrac{\\sigma_A^2}{n_A}&space;&plus;&space;\\dfrac{\\sigma_B^2}{n_B}}\" title=\"\\inline \\sigma_\\Delta = \\sqrt{\\dfrac{\\sigma_A^2}{n_A} + \\dfrac{\\sigma_B^2}{n_B}}\" /> "
   ]
  },
  {
   "cell_type": "markdown",
   "metadata": {
    "id": "QVI5J_tcc-lV"
   },
   "source": [
    "Для удобства дальнейших расчётов отдельно посчитаем величины  \n",
    "под корнем:"
   ]
  },
  {
   "cell_type": "code",
   "execution_count": 16,
   "metadata": {
    "id": "o5wmq7_VYlbf"
   },
   "outputs": [],
   "source": [
    "X = np.var(A, ddof=1) / A.shape[0]\n",
    "Y = np.var(B, ddof=1) / B.shape[0]"
   ]
  },
  {
   "cell_type": "markdown",
   "metadata": {
    "id": "8CTK6M6udRMu"
   },
   "source": [
    "Тогда, <img src=\"https://latex.codecogs.com/svg.image?\\inline&space;\\sigma_\\Delta\" title=\"\\inline \\sigma_\\Delta\" /> будет равна:"
   ]
  },
  {
   "cell_type": "code",
   "execution_count": 17,
   "metadata": {
    "colab": {
     "base_uri": "https://localhost:8080/"
    },
    "id": "LnD1yICKWSY2",
    "outputId": "0d2bb00a-e9eb-41c3-9676-48fea8e49999"
   },
   "outputs": [
    {
     "data": {
      "text/plain": [
       "0.006220171278295827"
      ]
     },
     "execution_count": 17,
     "metadata": {},
     "output_type": "execute_result"
    }
   ],
   "source": [
    "std_delta = np.sqrt(X + Y)\n",
    "std_delta"
   ]
  },
  {
   "cell_type": "markdown",
   "metadata": {
    "id": "lltSu7qgdXOs"
   },
   "source": [
    "Найдём t-статистику:"
   ]
  },
  {
   "cell_type": "code",
   "execution_count": 18,
   "metadata": {
    "colab": {
     "base_uri": "https://localhost:8080/"
    },
    "id": "OQOja2JsXWCH",
    "outputId": "b8817cbe-28a5-4a3f-d6e8-d56e585ccb53"
   },
   "outputs": [
    {
     "data": {
      "text/plain": [
       "-1.6504551408398205"
      ]
     },
     "execution_count": 18,
     "metadata": {},
     "output_type": "execute_result"
    }
   ],
   "source": [
    "t = (A.mean() - B.mean()) / std_delta\n",
    "t"
   ]
  },
  {
   "cell_type": "markdown",
   "metadata": {
    "id": "oAHs-83YdaZM"
   },
   "source": [
    "Найдём количество степеней свободы распределения t-статистики:  \n",
    "<br>\n",
    "<img src=\"https://latex.codecogs.com/svg.image?\\inline&space;df&space;=&space;\\dfrac{\\left(&space;\\dfrac{\\sigma_A^2}{n_A}&space;&plus;&space;\\dfrac{\\sigma_{B}^2}{n_B}&space;\\right)^2}{\\dfrac{\\left(&space;\\sigma_A^2&space;/&space;n_A&space;\\right)^2}{n_A&space;-&space;1}&space;&plus;&space;\\dfrac{\\left(&space;\\sigma_B^2&space;/&space;n_B&space;\\right)^2}{n_B&space;-&space;1}}\" title=\"\\inline df = \\dfrac{\\left( \\dfrac{\\sigma_A^2}{n_A} + \\dfrac{\\sigma_{B}^2}{n_B} \\right)^2}{\\dfrac{\\left( \\sigma_A^2 / n_A \\right)^2}{n_A - 1} + \\dfrac{\\left( \\sigma_B^2 / n_B \\right)^2}{n_B - 1}}\" />"
   ]
  },
  {
   "cell_type": "code",
   "execution_count": 19,
   "metadata": {
    "colab": {
     "base_uri": "https://localhost:8080/"
    },
    "id": "6KkZMS4gX7NX",
    "outputId": "82cdb592-9828-41e0-b68f-3f0e3b7ac97d"
   },
   "outputs": [
    {
     "data": {
      "text/plain": [
       "2734.4779590110347"
      ]
     },
     "execution_count": 19,
     "metadata": {},
     "output_type": "execute_result"
    }
   ],
   "source": [
    "df = (X + Y)**2 / ((X**2 / (A.shape[0] - 1)) + (Y**2 / (B.shape[0])))\n",
    "df"
   ]
  },
  {
   "cell_type": "markdown",
   "metadata": {
    "id": "qCDJacuKeR1q"
   },
   "source": [
    "Найдём границы критической области. Зададимся уровнем значимости α=0.05:"
   ]
  },
  {
   "cell_type": "code",
   "execution_count": 20,
   "metadata": {
    "colab": {
     "base_uri": "https://localhost:8080/"
    },
    "id": "ogOzmyEGZSam",
    "outputId": "774aa6df-3514-4dd5-c43c-dfb2b45727ce"
   },
   "outputs": [
    {
     "data": {
      "text/plain": [
       "(-1.9608319029496968, 1.9608319029496963)"
      ]
     },
     "execution_count": 20,
     "metadata": {},
     "output_type": "execute_result"
    }
   ],
   "source": [
    "alpha = 0.05\n",
    "t1 = stats.t.ppf(alpha/2, df=df)\n",
    "t2 = stats.t.ppf(1-alpha/2, df=df)\n",
    "\n",
    "t1, t2"
   ]
  },
  {
   "cell_type": "markdown",
   "metadata": {
    "id": "2DPlPalGeig4"
   },
   "source": [
    "Таким образом, критическая область имеет вид:  \n",
    "<img src=\"https://latex.codecogs.com/svg.image?\\inline&space;\\Omega_\\alpha&space;=&space;(-\\infty,&space;-1.96)&space;\\lor&space;(1.96,&space;&plus;\\infty)\" title=\"\\inline \\Omega_\\alpha = (-\\infty, -1.96) \\lor (1.96, +\\infty)\" />"
   ]
  },
  {
   "cell_type": "markdown",
   "metadata": {
    "id": "fT0ZyYtsfRp4"
   },
   "source": [
    "Наше значение статистики (-1,65) не попадает в критическую область.  \n",
    "Следовательно, мы принимаем нулевую гипотезу о равенстве математических  \n",
    "ожиданий двух выборок, то есть отличие конверсий на страницах А и В  \n",
    "не является значимым."
   ]
  },
  {
   "cell_type": "markdown",
   "metadata": {
    "id": "brVhP3ePgCna"
   },
   "source": [
    "Данную задачу можно было решить через встроенную в scipy функцию:"
   ]
  },
  {
   "cell_type": "code",
   "execution_count": 21,
   "metadata": {
    "colab": {
     "base_uri": "https://localhost:8080/"
    },
    "id": "Hh5UbPstZ8am",
    "outputId": "aad0b327-5b2b-4dfc-ed07-2edbd9c734c9"
   },
   "outputs": [
    {
     "data": {
      "text/plain": [
       "Ttest_indResult(statistic=array([-1.65045514]), pvalue=array([0.09896479]))"
      ]
     },
     "execution_count": 21,
     "metadata": {},
     "output_type": "execute_result"
    }
   ],
   "source": [
    "stats.ttest_ind(A, B, equal_var=False)"
   ]
  },
  {
   "cell_type": "markdown",
   "metadata": {
    "id": "YORkQRL_gMrd"
   },
   "source": [
    "Полученное р-значение больше нашего уровня значимости α=0,05. Это говорит  \n",
    "о том, что при таком уровне значимости мы принимаем нулевую гипотезу,  \n",
    "и отличие конверсий не является значимым."
   ]
  },
  {
   "cell_type": "markdown",
   "metadata": {
    "id": "LnEdBVV-gkBS"
   },
   "source": [
    "<u>Ответ:</u> 0."
   ]
  }
 ],
 "metadata": {
  "colab": {
   "collapsed_sections": [],
   "name": "Lesson_7_tasks.ipynb",
   "provenance": []
  },
  "kernelspec": {
   "display_name": "Python 3 (ipykernel)",
   "language": "python",
   "name": "python3"
  },
  "language_info": {
   "codemirror_mode": {
    "name": "ipython",
    "version": 3
   },
   "file_extension": ".py",
   "mimetype": "text/x-python",
   "name": "python",
   "nbconvert_exporter": "python",
   "pygments_lexer": "ipython3",
   "version": "3.9.7"
  }
 },
 "nbformat": 4,
 "nbformat_minor": 4
}
